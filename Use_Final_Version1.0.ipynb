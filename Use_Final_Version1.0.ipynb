{
  "nbformat": 4,
  "nbformat_minor": 0,
  "metadata": {
    "colab": {
      "name": "Copy of Use Final Version.ipynb",
      "provenance": [],
      "collapsed_sections": [],
      "mount_file_id": "1Tq3tYnUqRoLPy7qqihzqtIbZn8Y6dXOy",
      "authorship_tag": "ABX9TyP4sq3TxBSyosHJmQK7O3Cv",
      "include_colab_link": true
    },
    "kernelspec": {
      "name": "python3",
      "display_name": "Python 3"
    }
  },
  "cells": [
    {
      "cell_type": "markdown",
      "metadata": {
        "id": "view-in-github",
        "colab_type": "text"
      },
      "source": [
        "<a href=\"https://colab.research.google.com/github/WhyVivek30/Project/blob/master/Use_Final_Version1.0.ipynb\" target=\"_parent\"><img src=\"https://colab.research.google.com/assets/colab-badge.svg\" alt=\"Open In Colab\"/></a>"
      ]
    },
    {
      "cell_type": "code",
      "metadata": {
        "id": "xDV2adOl4x0e",
        "colab_type": "code",
        "colab": {
          "base_uri": "https://localhost:8080/",
          "height": 710
        },
        "outputId": "b44872d1-0b29-4e91-a952-8035eeb884d5"
      },
      "source": [
        "!pip uninstall tensorflow\n",
        "!pip uninstall tensorflow-text\n",
        "!pip3 uninstall \"tensorflow_hub>=0.6.0\"\n",
        "!pip uninstall keras"
      ],
      "execution_count": 38,
      "outputs": [
        {
          "output_type": "stream",
          "text": [
            "Uninstalling tensorflow-1.15.0:\n",
            "  Would remove:\n",
            "    /usr/local/bin/estimator_ckpt_converter\n",
            "    /usr/local/bin/freeze_graph\n",
            "    /usr/local/bin/saved_model_cli\n",
            "    /usr/local/bin/tensorboard\n",
            "    /usr/local/bin/tf_upgrade_v2\n",
            "    /usr/local/bin/tflite_convert\n",
            "    /usr/local/bin/toco\n",
            "    /usr/local/bin/toco_from_protos\n",
            "    /usr/local/lib/python3.6/dist-packages/tensorflow-1.15.0.dist-info/*\n",
            "    /usr/local/lib/python3.6/dist-packages/tensorflow/*\n",
            "    /usr/local/lib/python3.6/dist-packages/tensorflow_core/*\n",
            "Proceed (y/n)? Y\n",
            "  Successfully uninstalled tensorflow-1.15.0\n",
            "Uninstalling tensorflow-text-1.15.0:\n",
            "  Would remove:\n",
            "    /usr/local/lib/python3.6/dist-packages/tensorflow_text-1.15.0.dist-info/*\n",
            "    /usr/local/lib/python3.6/dist-packages/tensorflow_text/*\n",
            "Proceed (y/n)? Y\n",
            "  Successfully uninstalled tensorflow-text-1.15.0\n",
            "Uninstalling tensorflow-hub-0.9.0:\n",
            "  Would remove:\n",
            "    /usr/local/bin/make_image_classifier\n",
            "    /usr/local/bin/make_nearest_neighbour_index\n",
            "    /usr/local/lib/python3.6/dist-packages/tensorflow_hub-0.9.0.dist-info/*\n",
            "    /usr/local/lib/python3.6/dist-packages/tensorflow_hub/*\n",
            "Proceed (y/n)? Y\n",
            "  Successfully uninstalled tensorflow-hub-0.9.0\n",
            "Uninstalling Keras-2.3.1:\n",
            "  Would remove:\n",
            "    /usr/local/lib/python3.6/dist-packages/Keras-2.3.1.dist-info/*\n",
            "    /usr/local/lib/python3.6/dist-packages/docs/*\n",
            "    /usr/local/lib/python3.6/dist-packages/keras/*\n",
            "  Would not remove (might be manually added):\n",
            "    /usr/local/lib/python3.6/dist-packages/docs/md_autogen.py\n",
            "    /usr/local/lib/python3.6/dist-packages/docs/update_docs.py\n",
            "Proceed (y/n)? Y\n",
            "  Successfully uninstalled Keras-2.3.1\n"
          ],
          "name": "stdout"
        }
      ]
    },
    {
      "cell_type": "code",
      "metadata": {
        "id": "KgkymA3FHCIw",
        "colab_type": "code",
        "colab": {
          "base_uri": "https://localhost:8080/",
          "height": 1000
        },
        "outputId": "34b15f10-b9fe-44dd-fbf4-4bffbc8bc431"
      },
      "source": [
        "!pip install tensorflow==1.15\n",
        "!pip install \"tensorflow_hub>=0.6.0\"\n",
        "!pip3 install tensorflow_text==1.15\n",
        "!pip install keras==2.3.1\n",
        "\n",
        "import tensorflow as tf\n",
        "import tensorflow_hub as hub\n",
        "import numpy as np\n",
        "import tensorflow_text"
      ],
      "execution_count": 1,
      "outputs": [
        {
          "output_type": "stream",
          "text": [
            "Requirement already satisfied: tensorflow==1.15 in /usr/local/lib/python3.6/dist-packages (1.15.0)\n",
            "Requirement already satisfied: tensorflow-estimator==1.15.1 in /usr/local/lib/python3.6/dist-packages (from tensorflow==1.15) (1.15.1)\n",
            "Requirement already satisfied: opt-einsum>=2.3.2 in /usr/local/lib/python3.6/dist-packages (from tensorflow==1.15) (3.3.0)\n",
            "Requirement already satisfied: absl-py>=0.7.0 in /usr/local/lib/python3.6/dist-packages (from tensorflow==1.15) (0.10.0)\n",
            "Requirement already satisfied: protobuf>=3.6.1 in /usr/local/lib/python3.6/dist-packages (from tensorflow==1.15) (3.12.4)\n",
            "Requirement already satisfied: keras-preprocessing>=1.0.5 in /usr/local/lib/python3.6/dist-packages (from tensorflow==1.15) (1.1.2)\n",
            "Requirement already satisfied: grpcio>=1.8.6 in /usr/local/lib/python3.6/dist-packages (from tensorflow==1.15) (1.32.0)\n",
            "Requirement already satisfied: keras-applications>=1.0.8 in /usr/local/lib/python3.6/dist-packages (from tensorflow==1.15) (1.0.8)\n",
            "Requirement already satisfied: gast==0.2.2 in /usr/local/lib/python3.6/dist-packages (from tensorflow==1.15) (0.2.2)\n",
            "Requirement already satisfied: google-pasta>=0.1.6 in /usr/local/lib/python3.6/dist-packages (from tensorflow==1.15) (0.2.0)\n",
            "Requirement already satisfied: six>=1.10.0 in /usr/local/lib/python3.6/dist-packages (from tensorflow==1.15) (1.15.0)\n",
            "Requirement already satisfied: wrapt>=1.11.1 in /usr/local/lib/python3.6/dist-packages (from tensorflow==1.15) (1.12.1)\n",
            "Requirement already satisfied: numpy<2.0,>=1.16.0 in /usr/local/lib/python3.6/dist-packages (from tensorflow==1.15) (1.18.5)\n",
            "Requirement already satisfied: termcolor>=1.1.0 in /usr/local/lib/python3.6/dist-packages (from tensorflow==1.15) (1.1.0)\n",
            "Requirement already satisfied: tensorboard<1.16.0,>=1.15.0 in /usr/local/lib/python3.6/dist-packages (from tensorflow==1.15) (1.15.0)\n",
            "Requirement already satisfied: wheel>=0.26 in /usr/local/lib/python3.6/dist-packages (from tensorflow==1.15) (0.35.1)\n",
            "Requirement already satisfied: astor>=0.6.0 in /usr/local/lib/python3.6/dist-packages (from tensorflow==1.15) (0.8.1)\n",
            "Requirement already satisfied: setuptools in /usr/local/lib/python3.6/dist-packages (from protobuf>=3.6.1->tensorflow==1.15) (50.3.0)\n",
            "Requirement already satisfied: h5py in /usr/local/lib/python3.6/dist-packages (from keras-applications>=1.0.8->tensorflow==1.15) (2.10.0)\n",
            "Requirement already satisfied: markdown>=2.6.8 in /usr/local/lib/python3.6/dist-packages (from tensorboard<1.16.0,>=1.15.0->tensorflow==1.15) (3.2.2)\n",
            "Requirement already satisfied: werkzeug>=0.11.15 in /usr/local/lib/python3.6/dist-packages (from tensorboard<1.16.0,>=1.15.0->tensorflow==1.15) (1.0.1)\n",
            "Requirement already satisfied: importlib-metadata; python_version < \"3.8\" in /usr/local/lib/python3.6/dist-packages (from markdown>=2.6.8->tensorboard<1.16.0,>=1.15.0->tensorflow==1.15) (1.7.0)\n",
            "Requirement already satisfied: zipp>=0.5 in /usr/local/lib/python3.6/dist-packages (from importlib-metadata; python_version < \"3.8\"->markdown>=2.6.8->tensorboard<1.16.0,>=1.15.0->tensorflow==1.15) (3.1.0)\n",
            "Requirement already satisfied: tensorflow_hub>=0.6.0 in /usr/local/lib/python3.6/dist-packages (0.9.0)\n",
            "Requirement already satisfied: six>=1.12.0 in /usr/local/lib/python3.6/dist-packages (from tensorflow_hub>=0.6.0) (1.15.0)\n",
            "Requirement already satisfied: protobuf>=3.8.0 in /usr/local/lib/python3.6/dist-packages (from tensorflow_hub>=0.6.0) (3.12.4)\n",
            "Requirement already satisfied: numpy>=1.12.0 in /usr/local/lib/python3.6/dist-packages (from tensorflow_hub>=0.6.0) (1.18.5)\n",
            "Requirement already satisfied: setuptools in /usr/local/lib/python3.6/dist-packages (from protobuf>=3.8.0->tensorflow_hub>=0.6.0) (50.3.0)\n",
            "Requirement already satisfied: tensorflow_text==1.15 in /usr/local/lib/python3.6/dist-packages (1.15.0)\n",
            "Requirement already satisfied: tensorflow<1.16,>=1.15.0 in /usr/local/lib/python3.6/dist-packages (from tensorflow_text==1.15) (1.15.0)\n",
            "Requirement already satisfied: tensorboard<1.16.0,>=1.15.0 in /usr/local/lib/python3.6/dist-packages (from tensorflow<1.16,>=1.15.0->tensorflow_text==1.15) (1.15.0)\n",
            "Requirement already satisfied: numpy<2.0,>=1.16.0 in /usr/local/lib/python3.6/dist-packages (from tensorflow<1.16,>=1.15.0->tensorflow_text==1.15) (1.18.5)\n",
            "Requirement already satisfied: astor>=0.6.0 in /usr/local/lib/python3.6/dist-packages (from tensorflow<1.16,>=1.15.0->tensorflow_text==1.15) (0.8.1)\n",
            "Requirement already satisfied: opt-einsum>=2.3.2 in /usr/local/lib/python3.6/dist-packages (from tensorflow<1.16,>=1.15.0->tensorflow_text==1.15) (3.3.0)\n",
            "Requirement already satisfied: protobuf>=3.6.1 in /usr/local/lib/python3.6/dist-packages (from tensorflow<1.16,>=1.15.0->tensorflow_text==1.15) (3.12.4)\n",
            "Requirement already satisfied: absl-py>=0.7.0 in /usr/local/lib/python3.6/dist-packages (from tensorflow<1.16,>=1.15.0->tensorflow_text==1.15) (0.10.0)\n",
            "Requirement already satisfied: google-pasta>=0.1.6 in /usr/local/lib/python3.6/dist-packages (from tensorflow<1.16,>=1.15.0->tensorflow_text==1.15) (0.2.0)\n",
            "Requirement already satisfied: gast==0.2.2 in /usr/local/lib/python3.6/dist-packages (from tensorflow<1.16,>=1.15.0->tensorflow_text==1.15) (0.2.2)\n",
            "Requirement already satisfied: keras-preprocessing>=1.0.5 in /usr/local/lib/python3.6/dist-packages (from tensorflow<1.16,>=1.15.0->tensorflow_text==1.15) (1.1.2)\n",
            "Requirement already satisfied: keras-applications>=1.0.8 in /usr/local/lib/python3.6/dist-packages (from tensorflow<1.16,>=1.15.0->tensorflow_text==1.15) (1.0.8)\n",
            "Requirement already satisfied: termcolor>=1.1.0 in /usr/local/lib/python3.6/dist-packages (from tensorflow<1.16,>=1.15.0->tensorflow_text==1.15) (1.1.0)\n",
            "Requirement already satisfied: wheel>=0.26 in /usr/local/lib/python3.6/dist-packages (from tensorflow<1.16,>=1.15.0->tensorflow_text==1.15) (0.35.1)\n",
            "Requirement already satisfied: tensorflow-estimator==1.15.1 in /usr/local/lib/python3.6/dist-packages (from tensorflow<1.16,>=1.15.0->tensorflow_text==1.15) (1.15.1)\n",
            "Requirement already satisfied: grpcio>=1.8.6 in /usr/local/lib/python3.6/dist-packages (from tensorflow<1.16,>=1.15.0->tensorflow_text==1.15) (1.32.0)\n",
            "Requirement already satisfied: six>=1.10.0 in /usr/local/lib/python3.6/dist-packages (from tensorflow<1.16,>=1.15.0->tensorflow_text==1.15) (1.15.0)\n",
            "Requirement already satisfied: wrapt>=1.11.1 in /usr/local/lib/python3.6/dist-packages (from tensorflow<1.16,>=1.15.0->tensorflow_text==1.15) (1.12.1)\n",
            "Requirement already satisfied: werkzeug>=0.11.15 in /usr/local/lib/python3.6/dist-packages (from tensorboard<1.16.0,>=1.15.0->tensorflow<1.16,>=1.15.0->tensorflow_text==1.15) (1.0.1)\n",
            "Requirement already satisfied: setuptools>=41.0.0 in /usr/local/lib/python3.6/dist-packages (from tensorboard<1.16.0,>=1.15.0->tensorflow<1.16,>=1.15.0->tensorflow_text==1.15) (50.3.0)\n",
            "Requirement already satisfied: markdown>=2.6.8 in /usr/local/lib/python3.6/dist-packages (from tensorboard<1.16.0,>=1.15.0->tensorflow<1.16,>=1.15.0->tensorflow_text==1.15) (3.2.2)\n",
            "Requirement already satisfied: h5py in /usr/local/lib/python3.6/dist-packages (from keras-applications>=1.0.8->tensorflow<1.16,>=1.15.0->tensorflow_text==1.15) (2.10.0)\n",
            "Requirement already satisfied: importlib-metadata; python_version < \"3.8\" in /usr/local/lib/python3.6/dist-packages (from markdown>=2.6.8->tensorboard<1.16.0,>=1.15.0->tensorflow<1.16,>=1.15.0->tensorflow_text==1.15) (1.7.0)\n",
            "Requirement already satisfied: zipp>=0.5 in /usr/local/lib/python3.6/dist-packages (from importlib-metadata; python_version < \"3.8\"->markdown>=2.6.8->tensorboard<1.16.0,>=1.15.0->tensorflow<1.16,>=1.15.0->tensorflow_text==1.15) (3.1.0)\n",
            "Requirement already satisfied: keras==2.3.1 in /usr/local/lib/python3.6/dist-packages (2.3.1)\n",
            "Requirement already satisfied: pyyaml in /usr/local/lib/python3.6/dist-packages (from keras==2.3.1) (3.13)\n",
            "Requirement already satisfied: six>=1.9.0 in /usr/local/lib/python3.6/dist-packages (from keras==2.3.1) (1.15.0)\n",
            "Requirement already satisfied: scipy>=0.14 in /usr/local/lib/python3.6/dist-packages (from keras==2.3.1) (1.4.1)\n",
            "Requirement already satisfied: numpy>=1.9.1 in /usr/local/lib/python3.6/dist-packages (from keras==2.3.1) (1.18.5)\n",
            "Requirement already satisfied: keras-preprocessing>=1.0.5 in /usr/local/lib/python3.6/dist-packages (from keras==2.3.1) (1.1.2)\n",
            "Requirement already satisfied: h5py in /usr/local/lib/python3.6/dist-packages (from keras==2.3.1) (2.10.0)\n",
            "Requirement already satisfied: keras-applications>=1.0.6 in /usr/local/lib/python3.6/dist-packages (from keras==2.3.1) (1.0.8)\n"
          ],
          "name": "stdout"
        }
      ]
    },
    {
      "cell_type": "code",
      "metadata": {
        "id": "atFqOLZdI3l7",
        "colab_type": "code",
        "colab": {}
      },
      "source": [
        "embed = hub.Module(\"https://tfhub.dev/google/universal-sentence-encoder-large/3\")"
      ],
      "execution_count": 2,
      "outputs": []
    },
    {
      "cell_type": "code",
      "metadata": {
        "id": "ZgpRQCNK962P",
        "colab_type": "code",
        "colab": {
          "base_uri": "https://localhost:8080/",
          "height": 90
        },
        "outputId": "9940c757-ef94-4df7-ce2f-2cf680ccbca9"
      },
      "source": [
        "import matplotlib.pyplot as plt\n",
        "import numpy as np\n",
        "import os\n",
        "import seaborn as sns\n",
        "import keras.layers as layers\n",
        "from keras.models import Model\n",
        "from keras import backend as K\n",
        "np.random.seed(10)"
      ],
      "execution_count": 3,
      "outputs": [
        {
          "output_type": "stream",
          "text": [
            "/usr/local/lib/python3.6/dist-packages/statsmodels/tools/_testing.py:19: FutureWarning: pandas.util.testing is deprecated. Use the functions in the public API at pandas.testing instead.\n",
            "  import pandas.util.testing as tm\n",
            "Using TensorFlow backend.\n"
          ],
          "name": "stderr"
        }
      ]
    },
    {
      "cell_type": "code",
      "metadata": {
        "id": "oTlfi0VF5mwj",
        "colab_type": "code",
        "colab": {
          "base_uri": "https://localhost:8080/",
          "height": 285
        },
        "outputId": "dab1a51a-d905-4bfe-8e96-b7672e043e47"
      },
      "source": [
        "word = \"Elephant\"\n",
        "sentence = \"I am a sentence for which I would like to get its embedding.\"\n",
        "paragraph = (\n",
        "    \"Universal Sentence Encoder embeddings also support short paragraphs. \"\n",
        "    \"There is no hard limit on how long the paragraph is. Roughly, the longer \"\n",
        "    \"the more 'diluted' the embedding will be.\")\n",
        "messages = [word, sentence, paragraph]\n",
        "\n",
        "\n",
        "\n",
        "with tf.Session() as session:\n",
        "  session.run([tf.global_variables_initializer(), tf.tables_initializer()])\n",
        "  message_embeddings = session.run(embed(messages))\n",
        "\n",
        "  for i, message_embedding in enumerate(np.array(message_embeddings).tolist()):\n",
        "    print(\"Message: {}\".format(messages[i]))\n",
        "    print(\"Embedding size: {}\".format(len(message_embedding)))\n",
        "    message_embedding_snippet = \", \".join(\n",
        "        (str(x) for x in message_embedding[:3]))\n",
        "    print(\"Embedding: [{}, ...]\\n\".format(message_embedding_snippet))"
      ],
      "execution_count": 4,
      "outputs": [
        {
          "output_type": "stream",
          "text": [
            "INFO:tensorflow:Saver not created because there are no variables in the graph to restore\n"
          ],
          "name": "stdout"
        },
        {
          "output_type": "stream",
          "text": [
            "INFO:tensorflow:Saver not created because there are no variables in the graph to restore\n"
          ],
          "name": "stderr"
        },
        {
          "output_type": "stream",
          "text": [
            "Message: Elephant\n",
            "Embedding size: 512\n",
            "Embedding: [0.04498472809791565, -0.057433921843767166, 0.0022114901803433895, ...]\n",
            "\n",
            "Message: I am a sentence for which I would like to get its embedding.\n",
            "Embedding size: 512\n",
            "Embedding: [0.055680178105831146, -0.009607940912246704, 0.006246272940188646, ...]\n",
            "\n",
            "Message: Universal Sentence Encoder embeddings also support short paragraphs. There is no hard limit on how long the paragraph is. Roughly, the longer the more 'diluted' the embedding will be.\n",
            "Embedding size: 512\n",
            "Embedding: [0.03874940052628517, 0.0765201598405838, -0.000794590450823307, ...]\n",
            "\n"
          ],
          "name": "stdout"
        }
      ]
    },
    {
      "cell_type": "code",
      "metadata": {
        "id": "cN8w9c8sBMbc",
        "colab_type": "code",
        "colab": {
          "base_uri": "https://localhost:8080/",
          "height": 123
        },
        "outputId": "e8f6f1c3-ab3d-453d-b316-03eab691f7dd"
      },
      "source": [
        "# Compute a representation for each message, showing various lengths supported.\n",
        "messages = [\"That band rocks!\", \"That song is really cool.\"]\n",
        "\n",
        "with tf.Session() as session:\n",
        "  session.run([tf.global_variables_initializer(), tf.tables_initializer()])\n",
        "  message_embeddings = session.run(embed(messages))\n",
        "message_embeddings"
      ],
      "execution_count": 5,
      "outputs": [
        {
          "output_type": "stream",
          "text": [
            "INFO:tensorflow:Saver not created because there are no variables in the graph to restore\n"
          ],
          "name": "stdout"
        },
        {
          "output_type": "stream",
          "text": [
            "INFO:tensorflow:Saver not created because there are no variables in the graph to restore\n"
          ],
          "name": "stderr"
        },
        {
          "output_type": "execute_result",
          "data": {
            "text/plain": [
              "array([[ 0.00341093, -0.0381117 , -0.01249461, ..., -0.03188571,\n",
              "         0.03693528, -0.04350929],\n",
              "       [ 0.00599076, -0.03070363,  0.02946817, ..., -0.01874218,\n",
              "         0.05244366,  0.01933834]], dtype=float32)"
            ]
          },
          "metadata": {
            "tags": []
          },
          "execution_count": 5
        }
      ]
    },
    {
      "cell_type": "code",
      "metadata": {
        "id": "8JJI6TwaBXUB",
        "colab_type": "code",
        "colab": {
          "base_uri": "https://localhost:8080/",
          "height": 34
        },
        "outputId": "b6bd0166-bb26-4214-977d-3fc0a5349f85"
      },
      "source": [
        "embed_size = embed.get_output_info_dict()['default'].get_shape()[1].value\n",
        "embed_size"
      ],
      "execution_count": 6,
      "outputs": [
        {
          "output_type": "execute_result",
          "data": {
            "text/plain": [
              "512"
            ]
          },
          "metadata": {
            "tags": []
          },
          "execution_count": 6
        }
      ]
    },
    {
      "cell_type": "code",
      "metadata": {
        "id": "RKUmt5fuBaRc",
        "colab_type": "code",
        "colab": {
          "base_uri": "https://localhost:8080/",
          "height": 197
        },
        "outputId": "ba870f13-d476-4cd3-89bb-bc0552bca542"
      },
      "source": [
        "import codecs\n",
        "import pandas as pd\n",
        "def get_dataframe(filename):\n",
        "    lines = open(filename, 'r', encoding=\"utf-8\").read().splitlines()\n",
        "    data = []\n",
        "    for i in range(0, len(lines)):\n",
        "        label = lines[i].split(' ')[0]\n",
        "        label = label.split(\":\")[0]\n",
        "        text = ' '.join(lines[i].split(' ')[1:])\n",
        "       # text = re.sub('[^A-Za-z0-9 ,\\?\\'\\\"-._\\+\\!/\\`@=;:]+', '', text)\n",
        "        data.append([label, text])\n",
        "\n",
        "    df = pd.DataFrame(data, columns=['label', 'text'])\n",
        "    df.label = df.label.astype('category')\n",
        "    return df\n",
        "\n",
        "df_train = get_dataframe('/content/drive/My Drive/Malayalam Task 2/malayalam_train.txt')\n",
        "df_train.head()"
      ],
      "execution_count": 7,
      "outputs": [
        {
          "output_type": "execute_result",
          "data": {
            "text/html": [
              "<div>\n",
              "<style scoped>\n",
              "    .dataframe tbody tr th:only-of-type {\n",
              "        vertical-align: middle;\n",
              "    }\n",
              "\n",
              "    .dataframe tbody tr th {\n",
              "        vertical-align: top;\n",
              "    }\n",
              "\n",
              "    .dataframe thead th {\n",
              "        text-align: right;\n",
              "    }\n",
              "</style>\n",
              "<table border=\"1\" class=\"dataframe\">\n",
              "  <thead>\n",
              "    <tr style=\"text-align: right;\">\n",
              "      <th></th>\n",
              "      <th>label</th>\n",
              "      <th>text</th>\n",
              "    </tr>\n",
              "  </thead>\n",
              "  <tbody>\n",
              "    <tr>\n",
              "      <th>0</th>\n",
              "      <td>P</td>\n",
              "      <td>ਗੁਜਰਾਤ ਦੇ ਮੁੱਖ ਮੰਤਰੀ ਨਰਿੰਦਰ ਮੋਦੀ ਦਾ ਸਦਭਾਵਨਾ ਮਿ...</td>\n",
              "    </tr>\n",
              "    <tr>\n",
              "      <th>1</th>\n",
              "      <td>P</td>\n",
              "      <td>ਪੰਜਾਬ ਵਿਚ ਨਿੱਤ-ਦਿਨ ਵਾਪਰ ਰਹੀਆਂ ਲੁੱਟ-ਖਸੁੱਟ ਦੀਆਂ ...</td>\n",
              "    </tr>\n",
              "    <tr>\n",
              "      <th>2</th>\n",
              "      <td>P</td>\n",
              "      <td>ਪੱਛਮੀ ਬੰਗਾਲ ਵਿਚ 1977 ਤੋਂ ਲਗਾਤਾਰ ਖੱਬੇ-ਪੱਖੀ ਪਾਰਟ...</td>\n",
              "    </tr>\n",
              "    <tr>\n",
              "      <th>3</th>\n",
              "      <td>P</td>\n",
              "      <td>ਮਾਨਸਾ ਰੋਡ ‘ਤੇ ਸ੍ਰੀ ਵਾਲਮੀਕ ਚੌਕ ਨੇੜੇ ਤੇਲ ਟੈਂਕਰ ਨ...</td>\n",
              "    </tr>\n",
              "    <tr>\n",
              "      <th>4</th>\n",
              "      <td>P</td>\n",
              "      <td>ਪੁਲਿਸ ਨੇ ਢਕੌਲੀ ਦੇ ਆਦਰਸ਼ ਕਾਲੋਨੀ ਦੇ ਫਲੈਟ ਵਿਚ ਛਾਪ...</td>\n",
              "    </tr>\n",
              "  </tbody>\n",
              "</table>\n",
              "</div>"
            ],
            "text/plain": [
              "  label                                               text\n",
              "0     P  ਗੁਜਰਾਤ ਦੇ ਮੁੱਖ ਮੰਤਰੀ ਨਰਿੰਦਰ ਮੋਦੀ ਦਾ ਸਦਭਾਵਨਾ ਮਿ...\n",
              "1     P  ਪੰਜਾਬ ਵਿਚ ਨਿੱਤ-ਦਿਨ ਵਾਪਰ ਰਹੀਆਂ ਲੁੱਟ-ਖਸੁੱਟ ਦੀਆਂ ...\n",
              "2     P  ਪੱਛਮੀ ਬੰਗਾਲ ਵਿਚ 1977 ਤੋਂ ਲਗਾਤਾਰ ਖੱਬੇ-ਪੱਖੀ ਪਾਰਟ...\n",
              "3     P  ਮਾਨਸਾ ਰੋਡ ‘ਤੇ ਸ੍ਰੀ ਵਾਲਮੀਕ ਚੌਕ ਨੇੜੇ ਤੇਲ ਟੈਂਕਰ ਨ...\n",
              "4     P  ਪੁਲਿਸ ਨੇ ਢਕੌਲੀ ਦੇ ਆਦਰਸ਼ ਕਾਲੋਨੀ ਦੇ ਫਲੈਟ ਵਿਚ ਛਾਪ..."
            ]
          },
          "metadata": {
            "tags": []
          },
          "execution_count": 7
        }
      ]
    },
    {
      "cell_type": "code",
      "metadata": {
        "id": "A5FGuDwSCFyk",
        "colab_type": "code",
        "colab": {}
      },
      "source": [
        "df_train = get_dataframe('/content/drive/My Drive/Malayalam Task 2/malayalam_train.txt')"
      ],
      "execution_count": 8,
      "outputs": []
    },
    {
      "cell_type": "code",
      "metadata": {
        "id": "UhEjhf6tCMW6",
        "colab_type": "code",
        "colab": {
          "base_uri": "https://localhost:8080/",
          "height": 34
        },
        "outputId": "be833a10-f92b-4559-cf23-1178b46e82e3"
      },
      "source": [
        "category_counts = len(df_train.label.cat.categories)\n",
        "category_counts"
      ],
      "execution_count": 9,
      "outputs": [
        {
          "output_type": "execute_result",
          "data": {
            "text/plain": [
              "3"
            ]
          },
          "metadata": {
            "tags": []
          },
          "execution_count": 9
        }
      ]
    },
    {
      "cell_type": "code",
      "metadata": {
        "id": "6tM4lGE1CQcG",
        "colab_type": "code",
        "colab": {}
      },
      "source": [
        "def UniversalEmbedding(x):\n",
        "    return embed(tf.squeeze(tf.cast(x, tf.string)), signature=\"default\", as_dict=True)[\"default\"]"
      ],
      "execution_count": 10,
      "outputs": []
    },
    {
      "cell_type": "code",
      "metadata": {
        "id": "EqN_v1MRCS84",
        "colab_type": "code",
        "colab": {
          "base_uri": "https://localhost:8080/",
          "height": 463
        },
        "outputId": "6a885d13-40d8-49db-fa17-b0847d26aa4a"
      },
      "source": [
        "input_text = layers.Input(shape=(1,), dtype=tf.string)\n",
        "embedding = layers.Lambda(UniversalEmbedding, output_shape=(embed_size,))(input_text)\n",
        "dense = layers.Dense(256, activation='relu')(embedding)\n",
        "pred = layers.Dense(category_counts, activation='softmax')(dense)\n",
        "model = Model(inputs=[input_text], outputs=pred)\n",
        "model.compile(loss='categorical_crossentropy', optimizer='adam', metrics=['accuracy'])\n",
        "model.summary()"
      ],
      "execution_count": 11,
      "outputs": [
        {
          "output_type": "stream",
          "text": [
            "INFO:tensorflow:Saver not created because there are no variables in the graph to restore\n"
          ],
          "name": "stdout"
        },
        {
          "output_type": "stream",
          "text": [
            "INFO:tensorflow:Saver not created because there are no variables in the graph to restore\n"
          ],
          "name": "stderr"
        },
        {
          "output_type": "stream",
          "text": [
            "WARNING:tensorflow:From /usr/local/lib/python3.6/dist-packages/tensorflow_core/python/ops/resource_variable_ops.py:1630: calling BaseResourceVariable.__init__ (from tensorflow.python.ops.resource_variable_ops) with constraint is deprecated and will be removed in a future version.\n",
            "Instructions for updating:\n",
            "If using Keras pass *_constraint arguments to layers.\n"
          ],
          "name": "stdout"
        },
        {
          "output_type": "stream",
          "text": [
            "WARNING:tensorflow:From /usr/local/lib/python3.6/dist-packages/tensorflow_core/python/ops/resource_variable_ops.py:1630: calling BaseResourceVariable.__init__ (from tensorflow.python.ops.resource_variable_ops) with constraint is deprecated and will be removed in a future version.\n",
            "Instructions for updating:\n",
            "If using Keras pass *_constraint arguments to layers.\n"
          ],
          "name": "stderr"
        },
        {
          "output_type": "stream",
          "text": [
            "Model: \"model_1\"\n",
            "_________________________________________________________________\n",
            "Layer (type)                 Output Shape              Param #   \n",
            "=================================================================\n",
            "input_1 (InputLayer)         (None, 1)                 0         \n",
            "_________________________________________________________________\n",
            "lambda_1 (Lambda)            (None, 512)               0         \n",
            "_________________________________________________________________\n",
            "dense_1 (Dense)              (None, 256)               131328    \n",
            "_________________________________________________________________\n",
            "dense_2 (Dense)              (None, 3)                 771       \n",
            "=================================================================\n",
            "Total params: 132,099\n",
            "Trainable params: 132,099\n",
            "Non-trainable params: 0\n",
            "_________________________________________________________________\n"
          ],
          "name": "stdout"
        }
      ]
    },
    {
      "cell_type": "code",
      "metadata": {
        "id": "Ut8Xxu6HEz3V",
        "colab_type": "code",
        "colab": {}
      },
      "source": [
        "train_text = df_train['text'].tolist()\n",
        "train_text = np.array(train_text, dtype=object)[:, np.newaxis]\n",
        "\n",
        "train_label = np.asarray(pd.get_dummies(df_train.label), dtype = np.int8)"
      ],
      "execution_count": 12,
      "outputs": []
    },
    {
      "cell_type": "code",
      "metadata": {
        "id": "sSfB9MM8E3w3",
        "colab_type": "code",
        "colab": {
          "base_uri": "https://localhost:8080/",
          "height": 34
        },
        "outputId": "7095f403-510b-4f25-bcbb-57c5b712e2ca"
      },
      "source": [
        "train_text.shape"
      ],
      "execution_count": 13,
      "outputs": [
        {
          "output_type": "execute_result",
          "data": {
            "text/plain": [
              "(1759, 1)"
            ]
          },
          "metadata": {
            "tags": []
          },
          "execution_count": 13
        }
      ]
    },
    {
      "cell_type": "code",
      "metadata": {
        "id": "yI5BjO0ME7ou",
        "colab_type": "code",
        "colab": {
          "base_uri": "https://localhost:8080/",
          "height": 34
        },
        "outputId": "636af574-8c6a-4319-c4d2-d057d4c9754f"
      },
      "source": [
        "train_label.shape"
      ],
      "execution_count": 14,
      "outputs": [
        {
          "output_type": "execute_result",
          "data": {
            "text/plain": [
              "(1759, 3)"
            ]
          },
          "metadata": {
            "tags": []
          },
          "execution_count": 14
        }
      ]
    },
    {
      "cell_type": "code",
      "metadata": {
        "id": "ZVsX8PJnFD-R",
        "colab_type": "code",
        "colab": {
          "base_uri": "https://localhost:8080/",
          "height": 70
        },
        "outputId": "5398d738-feac-46cd-8588-2655412e9c36"
      },
      "source": [
        "train_label[:3]"
      ],
      "execution_count": 15,
      "outputs": [
        {
          "output_type": "execute_result",
          "data": {
            "text/plain": [
              "array([[0, 1, 0],\n",
              "       [0, 1, 0],\n",
              "       [0, 1, 0]], dtype=int8)"
            ]
          },
          "metadata": {
            "tags": []
          },
          "execution_count": 15
        }
      ]
    },
    {
      "cell_type": "code",
      "metadata": {
        "id": "9i8celm2FIN0",
        "colab_type": "code",
        "colab": {}
      },
      "source": [
        "df_test = get_dataframe('/content/drive/My Drive/Malayalam Task 2/malayalam_dev.txt')"
      ],
      "execution_count": 16,
      "outputs": []
    },
    {
      "cell_type": "code",
      "metadata": {
        "id": "D8gS5bhjFKri",
        "colab_type": "code",
        "colab": {}
      },
      "source": [
        "test_text = df_test['text'].tolist()\n",
        "test_text = np.array(test_text, dtype=object)[:, np.newaxis]\n",
        "test_label = np.asarray(pd.get_dummies(df_test.label), dtype = np.int8)"
      ],
      "execution_count": 17,
      "outputs": []
    },
    {
      "cell_type": "code",
      "metadata": {
        "id": "N-xHyOFWFTda",
        "colab_type": "code",
        "colab": {
          "base_uri": "https://localhost:8080/",
          "height": 232
        },
        "outputId": "434027a6-1149-41f0-86e2-cf46a6f9e8e8"
      },
      "source": [
        "with tf.Session() as session:\n",
        "  K.set_session(session)\n",
        "  session.run(tf.global_variables_initializer())\n",
        "  session.run(tf.tables_initializer())\n",
        "  history = model.fit(train_text, \n",
        "            train_label,\n",
        "            validation_data=(test_text, test_label),\n",
        "            epochs=1,\n",
        "            batch_size=32)\n",
        "  model.save_weights('./model.h5')"
      ],
      "execution_count": 18,
      "outputs": [
        {
          "output_type": "stream",
          "text": [
            "WARNING:tensorflow:From /usr/local/lib/python3.6/dist-packages/keras/backend/tensorflow_backend.py:422: The name tf.global_variables is deprecated. Please use tf.compat.v1.global_variables instead.\n",
            "\n"
          ],
          "name": "stdout"
        },
        {
          "output_type": "stream",
          "text": [
            "WARNING:tensorflow:From /usr/local/lib/python3.6/dist-packages/keras/backend/tensorflow_backend.py:422: The name tf.global_variables is deprecated. Please use tf.compat.v1.global_variables instead.\n",
            "\n"
          ],
          "name": "stderr"
        },
        {
          "output_type": "stream",
          "text": [
            "WARNING:tensorflow:From /usr/local/lib/python3.6/dist-packages/keras/backend/tensorflow_backend.py:431: The name tf.is_variable_initialized is deprecated. Please use tf.compat.v1.is_variable_initialized instead.\n",
            "\n"
          ],
          "name": "stdout"
        },
        {
          "output_type": "stream",
          "text": [
            "WARNING:tensorflow:From /usr/local/lib/python3.6/dist-packages/keras/backend/tensorflow_backend.py:431: The name tf.is_variable_initialized is deprecated. Please use tf.compat.v1.is_variable_initialized instead.\n",
            "\n"
          ],
          "name": "stderr"
        },
        {
          "output_type": "stream",
          "text": [
            "Train on 1759 samples, validate on 441 samples\n",
            "Epoch 1/1\n",
            "1759/1759 [==============================] - 106s 60ms/step - loss: 1.0378 - accuracy: 0.4810 - val_loss: 1.1607 - val_accuracy: 0.3333\n"
          ],
          "name": "stdout"
        }
      ]
    },
    {
      "cell_type": "code",
      "metadata": {
        "id": "cOn6zMQxFY5b",
        "colab_type": "code",
        "colab": {
          "base_uri": "https://localhost:8080/",
          "height": 34
        },
        "outputId": "64e01618-da33-4916-ceaa-c90f04a43bc8"
      },
      "source": [
        "!ls -alh | grep model.h5"
      ],
      "execution_count": 19,
      "outputs": [
        {
          "output_type": "stream",
          "text": [
            "-rw-r--r-- 1 root root 531K Sep 21 15:12 model.h5\n"
          ],
          "name": "stdout"
        }
      ]
    },
    {
      "cell_type": "code",
      "metadata": {
        "id": "aW9mWJi9FbHk",
        "colab_type": "code",
        "colab": {}
      },
      "source": [
        "df_test = get_dataframe('/content/drive/My Drive/Malayalam Task 2/malayalam_test.txt')\n",
        "new_text = df_test['text'].tolist()\n",
        "new_text = np.array(new_text, dtype=object)[:, np.newaxis]\n",
        "with tf.Session() as session:\n",
        "  K.set_session(session)\n",
        "  session.run(tf.global_variables_initializer())\n",
        "  session.run(tf.tables_initializer())\n",
        "  model.load_weights('./model.h5')  \n",
        "  predicts = model.predict(new_text, batch_size=32)\n",
        "  categories = df_train.label.cat.categories.tolist()\n",
        "  predict_logits = predicts.argmax(axis=1)\n",
        "  predict_labels = [categories[logit] for logit in predict_logits]\n",
        "  predict_labels"
      ],
      "execution_count": 20,
      "outputs": []
    },
    {
      "cell_type": "code",
      "metadata": {
        "id": "zJUgO3-VFd5B",
        "colab_type": "code",
        "colab": {}
      },
      "source": [
        "with open('/content/drive/My Drive/Malayalam Task 2/malayalam_test_label_obtained.txt', 'w') as f:\n",
        "    for item in predict_labels:\n",
        "        f.write(\"%s\\n\" % item)"
      ],
      "execution_count": 21,
      "outputs": []
    },
    {
      "cell_type": "code",
      "metadata": {
        "id": "IpkaH0BcFf_z",
        "colab_type": "code",
        "colab": {}
      },
      "source": [
        "with open('/content/drive/My Drive/Malayalam Task 2/malayalam_probability.txt', 'w') as f:\n",
        "    for item in predicts:\n",
        "        f.write(\"%s\\n\" % item)"
      ],
      "execution_count": 22,
      "outputs": []
    },
    {
      "cell_type": "code",
      "metadata": {
        "id": "YrbaquAXFjee",
        "colab_type": "code",
        "colab": {
          "base_uri": "https://localhost:8080/",
          "height": 72
        },
        "outputId": "fa25e1bd-c2eb-4663-980e-6e951a6f3c20"
      },
      "source": [
        "content_array_1 = []\n",
        "content_array_2 = []\n",
        "def file_read(fname,fname1):\n",
        "        with open(fname) as f:\n",
        "                #Content_list is the list that contains the read lines.     \n",
        "                for line in f:\n",
        "                        content_array_1.append(line)\n",
        "                print(content_array_1)\n",
        "        with open(fname1) as f:\n",
        "                #Content_list is the list that contains the read lines.     \n",
        "                for line in f:\n",
        "                        content_array_2.append(line)\n",
        "                print(content_array_2)        \n",
        "\n",
        "file_read('/content/drive/My Drive/Malayalam Task 2/malayalam_test_label_obtained.txt','/content/drive/My Drive/Malayalam Task 2/malayalam_test_labels.txt')"
      ],
      "execution_count": 23,
      "outputs": [
        {
          "output_type": "stream",
          "text": [
            "['NP\\n', 'NP\\n', 'NP\\n', 'NP\\n', 'NP\\n', 'NP\\n', 'NP\\n', 'NP\\n', 'NP\\n', 'NP\\n', 'NP\\n', 'NP\\n', 'NP\\n', 'NP\\n', 'NP\\n', 'NP\\n', 'NP\\n', 'NP\\n', 'NP\\n', 'NP\\n', 'NP\\n', 'NP\\n', 'NP\\n', 'NP\\n', 'NP\\n', 'NP\\n', 'NP\\n', 'NP\\n', 'NP\\n', 'NP\\n', 'NP\\n', 'NP\\n', 'NP\\n', 'NP\\n', 'NP\\n', 'NP\\n', 'NP\\n', 'NP\\n', 'NP\\n', 'NP\\n', 'NP\\n', 'NP\\n', 'NP\\n', 'NP\\n', 'NP\\n', 'NP\\n', 'NP\\n', 'NP\\n', 'NP\\n', 'NP\\n', 'NP\\n', 'NP\\n', 'NP\\n', 'NP\\n', 'NP\\n', 'NP\\n', 'NP\\n', 'NP\\n', 'NP\\n', 'NP\\n', 'NP\\n', 'NP\\n', 'NP\\n', 'NP\\n', 'NP\\n', 'NP\\n', 'NP\\n', 'NP\\n', 'NP\\n', 'NP\\n', 'NP\\n', 'NP\\n', 'NP\\n', 'NP\\n', 'NP\\n', 'NP\\n', 'NP\\n', 'NP\\n', 'NP\\n', 'NP\\n', 'NP\\n', 'NP\\n', 'NP\\n', 'NP\\n', 'NP\\n', 'NP\\n', 'NP\\n', 'NP\\n', 'NP\\n', 'NP\\n', 'NP\\n', 'NP\\n', 'NP\\n', 'NP\\n', 'NP\\n', 'NP\\n', 'NP\\n', 'NP\\n', 'NP\\n', 'NP\\n', 'NP\\n', 'NP\\n', 'NP\\n', 'NP\\n', 'NP\\n', 'NP\\n', 'NP\\n', 'NP\\n', 'NP\\n', 'NP\\n', 'NP\\n', 'NP\\n', 'NP\\n', 'NP\\n', 'NP\\n', 'NP\\n', 'NP\\n', 'NP\\n', 'NP\\n', 'NP\\n', 'NP\\n', 'NP\\n', 'NP\\n', 'NP\\n', 'NP\\n', 'NP\\n', 'NP\\n', 'NP\\n', 'NP\\n', 'NP\\n', 'NP\\n', 'NP\\n', 'NP\\n', 'NP\\n', 'NP\\n', 'NP\\n', 'NP\\n', 'NP\\n', 'NP\\n', 'NP\\n', 'NP\\n', 'NP\\n', 'NP\\n', 'NP\\n', 'NP\\n', 'NP\\n', 'NP\\n', 'NP\\n', 'NP\\n', 'NP\\n', 'NP\\n', 'NP\\n', 'NP\\n', 'NP\\n', 'NP\\n', 'NP\\n', 'NP\\n', 'NP\\n', 'NP\\n', 'NP\\n', 'NP\\n', 'NP\\n', 'NP\\n', 'NP\\n', 'NP\\n', 'NP\\n', 'NP\\n', 'NP\\n', 'NP\\n', 'NP\\n', 'NP\\n', 'NP\\n', 'NP\\n', 'NP\\n', 'NP\\n', 'NP\\n', 'NP\\n', 'NP\\n', 'NP\\n', 'NP\\n', 'NP\\n', 'NP\\n', 'NP\\n', 'NP\\n', 'NP\\n', 'NP\\n', 'NP\\n', 'NP\\n', 'NP\\n', 'NP\\n', 'NP\\n', 'NP\\n', 'NP\\n', 'NP\\n', 'NP\\n', 'NP\\n', 'NP\\n', 'NP\\n', 'NP\\n', 'NP\\n', 'NP\\n', 'NP\\n', 'NP\\n', 'NP\\n', 'NP\\n', 'NP\\n', 'NP\\n', 'NP\\n', 'NP\\n', 'NP\\n', 'NP\\n', 'NP\\n', 'NP\\n', 'NP\\n', 'NP\\n', 'NP\\n', 'NP\\n', 'NP\\n', 'NP\\n', 'NP\\n', 'NP\\n', 'NP\\n', 'NP\\n', 'NP\\n', 'NP\\n', 'NP\\n', 'NP\\n', 'NP\\n', 'NP\\n', 'NP\\n', 'NP\\n', 'NP\\n', 'NP\\n', 'NP\\n', 'NP\\n', 'NP\\n', 'NP\\n', 'NP\\n', 'NP\\n', 'NP\\n', 'NP\\n', 'NP\\n', 'NP\\n', 'NP\\n', 'NP\\n', 'NP\\n', 'NP\\n', 'NP\\n', 'NP\\n', 'NP\\n', 'NP\\n', 'NP\\n', 'NP\\n', 'NP\\n', 'NP\\n', 'NP\\n', 'NP\\n', 'NP\\n', 'NP\\n', 'NP\\n', 'NP\\n', 'NP\\n', 'NP\\n', 'NP\\n', 'NP\\n', 'NP\\n', 'NP\\n', 'NP\\n', 'NP\\n', 'NP\\n', 'NP\\n', 'NP\\n', 'NP\\n', 'NP\\n', 'NP\\n', 'NP\\n', 'NP\\n', 'NP\\n', 'NP\\n', 'NP\\n', 'NP\\n', 'NP\\n', 'NP\\n', 'NP\\n', 'NP\\n', 'NP\\n', 'NP\\n', 'NP\\n', 'NP\\n', 'NP\\n', 'NP\\n', 'NP\\n', 'NP\\n', 'NP\\n', 'NP\\n', 'NP\\n', 'NP\\n', 'NP\\n', 'NP\\n', 'NP\\n', 'NP\\n', 'NP\\n', 'NP\\n', 'NP\\n', 'NP\\n', 'NP\\n', 'NP\\n', 'NP\\n', 'NP\\n', 'NP\\n', 'NP\\n', 'NP\\n', 'NP\\n', 'NP\\n', 'NP\\n', 'NP\\n', 'NP\\n', 'NP\\n', 'NP\\n', 'NP\\n', 'NP\\n', 'NP\\n', 'NP\\n', 'NP\\n', 'NP\\n', 'NP\\n', 'NP\\n', 'NP\\n', 'NP\\n', 'NP\\n', 'NP\\n', 'NP\\n', 'NP\\n', 'NP\\n', 'NP\\n', 'NP\\n', 'NP\\n', 'NP\\n', 'NP\\n', 'NP\\n', 'NP\\n', 'NP\\n', 'NP\\n', 'NP\\n', 'NP\\n', 'NP\\n', 'NP\\n', 'NP\\n', 'NP\\n', 'NP\\n', 'NP\\n', 'NP\\n', 'NP\\n', 'NP\\n', 'NP\\n', 'NP\\n', 'NP\\n', 'NP\\n', 'NP\\n', 'NP\\n', 'NP\\n', 'NP\\n', 'NP\\n', 'NP\\n', 'NP\\n', 'NP\\n', 'NP\\n', 'NP\\n', 'NP\\n', 'NP\\n', 'NP\\n', 'NP\\n', 'NP\\n', 'NP\\n', 'NP\\n', 'NP\\n', 'NP\\n', 'NP\\n', 'NP\\n', 'NP\\n', 'NP\\n', 'NP\\n', 'NP\\n', 'NP\\n', 'NP\\n', 'NP\\n', 'NP\\n', 'NP\\n', 'NP\\n', 'NP\\n', 'NP\\n', 'NP\\n', 'NP\\n', 'NP\\n', 'NP\\n', 'NP\\n', 'NP\\n', 'NP\\n', 'NP\\n', 'NP\\n', 'NP\\n', 'NP\\n', 'NP\\n', 'NP\\n', 'NP\\n', 'NP\\n', 'NP\\n', 'NP\\n', 'NP\\n', 'NP\\n', 'NP\\n', 'NP\\n', 'NP\\n', 'NP\\n', 'NP\\n', 'NP\\n', 'NP\\n', 'NP\\n', 'NP\\n', 'NP\\n', 'NP\\n', 'NP\\n', 'NP\\n', 'NP\\n', 'NP\\n', 'NP\\n', 'NP\\n', 'NP\\n', 'NP\\n', 'NP\\n', 'NP\\n', 'NP\\n', 'NP\\n', 'NP\\n', 'NP\\n', 'NP\\n', 'NP\\n', 'NP\\n', 'NP\\n', 'NP\\n', 'NP\\n', 'NP\\n', 'NP\\n', 'NP\\n', 'NP\\n', 'NP\\n', 'NP\\n', 'NP\\n', 'NP\\n', 'NP\\n', 'NP\\n', 'NP\\n', 'NP\\n', 'NP\\n', 'NP\\n', 'NP\\n', 'NP\\n', 'NP\\n', 'NP\\n', 'NP\\n', 'NP\\n', 'NP\\n', 'NP\\n', 'NP\\n', 'NP\\n', 'NP\\n', 'NP\\n', 'NP\\n', 'NP\\n', 'NP\\n', 'NP\\n', 'NP\\n', 'NP\\n', 'NP\\n', 'NP\\n', 'NP\\n', 'NP\\n', 'NP\\n', 'NP\\n', 'NP\\n', 'NP\\n', 'NP\\n', 'NP\\n', 'NP\\n', 'NP\\n', 'NP\\n', 'NP\\n', 'NP\\n', 'NP\\n', 'NP\\n', 'NP\\n', 'NP\\n', 'NP\\n', 'NP\\n', 'NP\\n', 'NP\\n', 'NP\\n', 'NP\\n', 'NP\\n', 'NP\\n', 'NP\\n', 'NP\\n', 'NP\\n', 'NP\\n', 'NP\\n', 'NP\\n', 'NP\\n', 'NP\\n', 'NP\\n', 'NP\\n', 'NP\\n', 'NP\\n', 'NP\\n', 'NP\\n', 'NP\\n', 'NP\\n', 'NP\\n', 'NP\\n', 'NP\\n', 'NP\\n', 'NP\\n', 'NP\\n', 'NP\\n', 'NP\\n', 'NP\\n', 'NP\\n', 'NP\\n', 'NP\\n', 'NP\\n', 'NP\\n', 'NP\\n', 'NP\\n', 'NP\\n', 'NP\\n', 'NP\\n', 'NP\\n', 'NP\\n', 'NP\\n', 'NP\\n', 'NP\\n', 'NP\\n', 'NP\\n', 'NP\\n', 'NP\\n', 'NP\\n', 'NP\\n', 'NP\\n', 'NP\\n', 'NP\\n', 'NP\\n', 'NP\\n', 'NP\\n', 'NP\\n', 'NP\\n', 'NP\\n', 'NP\\n', 'NP\\n', 'NP\\n', 'NP\\n', 'NP\\n', 'NP\\n', 'NP\\n', 'NP\\n', 'NP\\n', 'NP\\n', 'NP\\n', 'NP\\n', 'NP\\n', 'NP\\n', 'NP\\n', 'NP\\n', 'NP\\n', 'NP\\n', 'NP\\n', 'NP\\n', 'NP\\n', 'NP\\n', 'NP\\n', 'NP\\n', 'NP\\n', 'NP\\n', 'NP\\n', 'NP\\n', 'NP\\n', 'NP\\n', 'NP\\n', 'NP\\n', 'NP\\n', 'NP\\n', 'NP\\n', 'NP\\n', 'NP\\n', 'NP\\n', 'NP\\n', 'NP\\n', 'NP\\n', 'NP\\n', 'NP\\n', 'NP\\n', 'NP\\n', 'NP\\n', 'NP\\n', 'NP\\n', 'NP\\n', 'NP\\n', 'NP\\n', 'NP\\n', 'NP\\n', 'NP\\n', 'NP\\n', 'NP\\n', 'NP\\n', 'NP\\n', 'NP\\n', 'NP\\n', 'NP\\n', 'NP\\n', 'NP\\n', 'NP\\n', 'NP\\n', 'NP\\n', 'NP\\n', 'NP\\n', 'NP\\n', 'NP\\n', 'NP\\n', 'NP\\n', 'NP\\n', 'NP\\n', 'NP\\n', 'NP\\n', 'NP\\n', 'NP\\n', 'NP\\n', 'NP\\n', 'NP\\n', 'NP\\n', 'NP\\n', 'NP\\n', 'NP\\n', 'NP\\n', 'NP\\n', 'NP\\n', 'NP\\n', 'NP\\n', 'NP\\n', 'NP\\n', 'NP\\n', 'NP\\n', 'NP\\n', 'NP\\n', 'NP\\n', 'NP\\n', 'NP\\n', 'NP\\n', 'NP\\n', 'NP\\n', 'NP\\n', 'NP\\n', 'NP\\n', 'NP\\n', 'NP\\n', 'NP\\n', 'NP\\n', 'NP\\n', 'NP\\n', 'NP\\n', 'NP\\n', 'NP\\n', 'NP\\n', 'NP\\n', 'NP\\n', 'NP\\n', 'NP\\n', 'NP\\n', 'NP\\n', 'NP\\n', 'NP\\n', 'NP\\n', 'NP\\n', 'NP\\n', 'NP\\n', 'NP\\n', 'NP\\n', 'NP\\n', 'NP\\n', 'NP\\n', 'NP\\n', 'NP\\n', 'NP\\n', 'NP\\n', 'NP\\n', 'NP\\n', 'NP\\n', 'NP\\n', 'NP\\n', 'NP\\n', 'NP\\n', 'NP\\n', 'NP\\n', 'NP\\n', 'NP\\n', 'NP\\n', 'NP\\n', 'NP\\n', 'NP\\n', 'NP\\n', 'NP\\n', 'NP\\n', 'NP\\n', 'NP\\n', 'NP\\n', 'NP\\n', 'NP\\n', 'NP\\n', 'NP\\n', 'NP\\n', 'NP\\n', 'NP\\n', 'NP\\n', 'NP\\n', 'NP\\n', 'NP\\n', 'NP\\n', 'NP\\n', 'NP\\n', 'NP\\n', 'NP\\n', 'NP\\n', 'NP\\n', 'NP\\n', 'NP\\n', 'NP\\n', 'NP\\n', 'NP\\n', 'NP\\n', 'NP\\n', 'NP\\n', 'NP\\n', 'NP\\n', 'NP\\n', 'NP\\n', 'NP\\n', 'NP\\n', 'NP\\n', 'NP\\n', 'NP\\n', 'NP\\n', 'NP\\n', 'NP\\n', 'NP\\n', 'NP\\n', 'NP\\n', 'NP\\n', 'NP\\n', 'NP\\n', 'NP\\n', 'NP\\n', 'NP\\n', 'NP\\n', 'NP\\n', 'NP\\n', 'NP\\n', 'NP\\n', 'NP\\n', 'NP\\n', 'NP\\n', 'NP\\n', 'NP\\n', 'NP\\n', 'NP\\n', 'NP\\n', 'NP\\n', 'NP\\n', 'NP\\n', 'NP\\n', 'NP\\n', 'NP\\n', 'NP\\n', 'NP\\n', 'NP\\n', 'NP\\n', 'NP\\n', 'NP\\n', 'NP\\n', 'NP\\n', 'NP\\n', 'NP\\n', 'NP\\n', 'NP\\n', 'NP\\n', 'NP\\n', 'NP\\n', 'NP\\n', 'NP\\n', 'NP\\n', 'NP\\n', 'NP\\n', 'NP\\n', 'NP\\n', 'NP\\n', 'NP\\n', 'NP\\n', 'NP\\n', 'NP\\n', 'NP\\n', 'NP\\n', 'NP\\n', 'NP\\n', 'NP\\n', 'NP\\n', 'NP\\n', 'NP\\n', 'NP\\n', 'NP\\n', 'NP\\n', 'NP\\n', 'NP\\n', 'NP\\n', 'NP\\n', 'NP\\n', 'NP\\n', 'NP\\n', 'NP\\n', 'NP\\n', 'NP\\n', 'NP\\n', 'NP\\n', 'NP\\n', 'NP\\n', 'NP\\n', 'NP\\n', 'NP\\n', 'NP\\n', 'NP\\n', 'NP\\n', 'NP\\n', 'NP\\n', 'NP\\n', 'NP\\n', 'NP\\n', 'NP\\n', 'NP\\n', 'NP\\n', 'NP\\n', 'NP\\n', 'NP\\n', 'NP\\n', 'NP\\n', 'NP\\n', 'NP\\n', 'NP\\n', 'NP\\n', 'NP\\n', 'NP\\n', 'NP\\n', 'NP\\n', 'NP\\n', 'NP\\n', 'NP\\n', 'NP\\n', 'NP\\n', 'NP\\n', 'NP\\n', 'NP\\n', 'NP\\n', 'NP\\n', 'NP\\n', 'NP\\n', 'NP\\n', 'NP\\n', 'NP\\n', 'NP\\n', 'NP\\n', 'NP\\n', 'NP\\n', 'NP\\n', 'NP\\n', 'NP\\n', 'NP\\n', 'NP\\n', 'NP\\n', 'NP\\n', 'NP\\n', 'NP\\n', 'NP\\n', 'NP\\n', 'NP\\n', 'NP\\n', 'NP\\n', 'NP\\n', 'NP\\n', 'NP\\n', 'NP\\n', 'NP\\n', 'NP\\n', 'NP\\n', 'NP\\n', 'NP\\n', 'NP\\n', 'NP\\n', 'NP\\n', 'NP\\n', 'NP\\n', 'NP\\n', 'NP\\n', 'NP\\n', 'NP\\n', 'NP\\n', 'NP\\n', 'NP\\n', 'NP\\n', 'NP\\n', 'NP\\n', 'NP\\n', 'NP\\n', 'NP\\n', 'NP\\n', 'NP\\n', 'NP\\n', 'NP\\n', 'NP\\n', 'NP\\n', 'NP\\n', 'NP\\n', 'NP\\n', 'NP\\n', 'NP\\n', 'NP\\n', 'NP\\n', 'NP\\n', 'NP\\n', 'NP\\n', 'NP\\n', 'NP\\n', 'NP\\n', 'NP\\n', 'NP\\n', 'NP\\n', 'NP\\n', 'NP\\n', 'NP\\n', 'NP\\n', 'NP\\n', 'NP\\n', 'NP\\n', 'NP\\n', 'NP\\n', 'NP\\n', 'NP\\n', 'NP\\n', 'NP\\n', 'NP\\n', 'NP\\n', 'NP\\n', 'NP\\n', 'NP\\n', 'NP\\n', 'NP\\n', 'NP\\n', 'NP\\n', 'NP\\n', 'NP\\n', 'NP\\n', 'NP\\n', 'NP\\n', 'NP\\n', 'NP\\n', 'NP\\n', 'NP\\n', 'NP\\n', 'NP\\n', 'NP\\n', 'NP\\n', 'NP\\n', 'NP\\n', 'NP\\n', 'NP\\n', 'NP\\n', 'NP\\n', 'NP\\n', 'NP\\n', 'NP\\n', 'NP\\n', 'NP\\n', 'NP\\n', 'NP\\n', 'NP\\n', 'NP\\n', 'NP\\n', 'NP\\n', 'NP\\n', 'NP\\n', 'NP\\n', 'NP\\n', 'NP\\n', 'NP\\n', 'NP\\n', 'NP\\n', 'NP\\n', 'NP\\n', 'NP\\n', 'NP\\n', 'NP\\n', 'NP\\n', 'NP\\n', 'NP\\n', 'NP\\n', 'NP\\n', 'NP\\n', 'NP\\n', 'NP\\n', 'NP\\n', 'NP\\n', 'NP\\n', 'NP\\n', 'NP\\n', 'NP\\n', 'NP\\n', 'NP\\n', 'NP\\n', 'NP\\n', 'NP\\n', 'NP\\n', 'NP\\n', 'NP\\n', 'NP\\n', 'NP\\n', 'NP\\n', 'NP\\n', 'NP\\n', 'NP\\n', 'NP\\n', 'NP\\n', 'NP\\n', 'NP\\n', 'NP\\n', 'NP\\n', 'NP\\n', 'NP\\n', 'NP\\n', 'NP\\n', 'NP\\n', 'NP\\n', 'NP\\n', 'NP\\n', 'NP\\n', 'NP\\n', 'NP\\n', 'NP\\n', 'NP\\n', 'NP\\n', 'NP\\n', 'NP\\n', 'NP\\n', 'NP\\n', 'NP\\n', 'NP\\n', 'NP\\n', 'NP\\n', 'NP\\n', 'NP\\n', 'NP\\n', 'NP\\n', 'NP\\n', 'NP\\n', 'NP\\n', 'NP\\n', 'NP\\n', 'NP\\n', 'NP\\n', 'NP\\n', 'NP\\n', 'NP\\n', 'NP\\n', 'NP\\n', 'NP\\n', 'NP\\n', 'NP\\n', 'NP\\n', 'NP\\n', 'NP\\n', 'NP\\n', 'NP\\n', 'NP\\n', 'NP\\n', 'NP\\n', 'NP\\n', 'NP\\n', 'NP\\n', 'NP\\n', 'NP\\n', 'NP\\n', 'NP\\n', 'NP\\n', 'NP\\n', 'NP\\n', 'NP\\n', 'NP\\n', 'NP\\n', 'NP\\n', 'NP\\n', 'NP\\n', 'NP\\n', 'NP\\n', 'NP\\n', 'NP\\n', 'NP\\n', 'NP\\n', 'NP\\n', 'NP\\n', 'NP\\n', 'NP\\n', 'NP\\n', 'NP\\n', 'NP\\n', 'NP\\n', 'NP\\n', 'NP\\n', 'NP\\n', 'NP\\n', 'NP\\n', 'NP\\n', 'NP\\n', 'NP\\n', 'NP\\n', 'NP\\n', 'NP\\n', 'NP\\n', 'NP\\n', 'NP\\n', 'NP\\n', 'NP\\n', 'NP\\n', 'NP\\n', 'NP\\n', 'NP\\n', 'NP\\n', 'NP\\n', 'NP\\n', 'NP\\n', 'NP\\n', 'NP\\n', 'NP\\n', 'NP\\n', 'NP\\n', 'NP\\n', 'NP\\n', 'NP\\n', 'NP\\n', 'NP\\n', 'NP\\n', 'NP\\n', 'NP\\n', 'NP\\n', 'NP\\n', 'NP\\n', 'NP\\n', 'NP\\n', 'NP\\n', 'NP\\n', 'NP\\n', 'NP\\n', 'NP\\n', 'NP\\n', 'NP\\n', 'NP\\n', 'NP\\n', 'NP\\n', 'NP\\n', 'NP\\n', 'NP\\n', 'NP\\n', 'NP\\n', 'NP\\n', 'NP\\n', 'NP\\n', 'NP\\n', 'NP\\n', 'NP\\n', 'NP\\n', 'NP\\n', 'NP\\n', 'NP\\n', 'NP\\n', 'NP\\n', 'NP\\n', 'NP\\n', 'NP\\n', 'NP\\n', 'NP\\n', 'NP\\n', 'NP\\n', 'NP\\n', 'NP\\n', 'NP\\n', 'NP\\n', 'NP\\n', 'NP\\n', 'NP\\n', 'NP\\n', 'NP\\n', 'NP\\n', 'NP\\n', 'NP\\n', 'NP\\n', 'NP\\n', 'NP\\n', 'NP\\n', 'NP\\n', 'NP\\n', 'NP\\n', 'NP\\n', 'NP\\n', 'NP\\n', 'NP\\n', 'NP\\n', 'NP\\n', 'NP\\n', 'NP\\n', 'NP\\n', 'NP\\n', 'NP\\n', 'NP\\n', 'NP\\n', 'NP\\n', 'NP\\n', 'NP\\n', 'NP\\n', 'NP\\n', 'NP\\n', 'NP\\n', 'NP\\n', 'NP\\n', 'NP\\n', 'NP\\n', 'NP\\n', 'NP\\n', 'NP\\n', 'NP\\n', 'NP\\n', 'NP\\n', 'NP\\n', 'NP\\n', 'NP\\n', 'NP\\n', 'NP\\n', 'NP\\n', 'NP\\n', 'NP\\n', 'NP\\n', 'NP\\n', 'NP\\n', 'NP\\n', 'NP\\n', 'NP\\n', 'NP\\n', 'NP\\n', 'NP\\n', 'NP\\n', 'NP\\n', 'NP\\n', 'NP\\n', 'NP\\n', 'NP\\n', 'NP\\n', 'NP\\n', 'NP\\n', 'NP\\n', 'NP\\n', 'NP\\n', 'NP\\n', 'NP\\n', 'NP\\n', 'NP\\n', 'NP\\n', 'NP\\n', 'NP\\n', 'NP\\n', 'NP\\n', 'NP\\n', 'NP\\n', 'NP\\n', 'NP\\n', 'NP\\n', 'NP\\n', 'NP\\n', 'NP\\n', 'NP\\n', 'NP\\n', 'NP\\n', 'NP\\n', 'NP\\n', 'NP\\n', 'NP\\n', 'NP\\n', 'NP\\n', 'NP\\n', 'NP\\n', 'NP\\n', 'NP\\n', 'NP\\n', 'NP\\n', 'NP\\n', 'NP\\n', 'NP\\n', 'NP\\n', 'NP\\n', 'NP\\n', 'NP\\n', 'NP\\n', 'NP\\n', 'NP\\n', 'NP\\n', 'NP\\n', 'NP\\n', 'NP\\n', 'NP\\n', 'NP\\n', 'NP\\n', 'NP\\n', 'NP\\n', 'NP\\n', 'NP\\n', 'NP\\n', 'NP\\n', 'NP\\n', 'NP\\n', 'NP\\n', 'NP\\n', 'NP\\n', 'NP\\n', 'NP\\n', 'NP\\n', 'NP\\n', 'NP\\n', 'NP\\n', 'NP\\n', 'NP\\n', 'NP\\n', 'NP\\n', 'NP\\n', 'NP\\n', 'NP\\n', 'NP\\n', 'NP\\n', 'NP\\n', 'NP\\n', 'NP\\n', 'NP\\n', 'NP\\n', 'NP\\n', 'NP\\n', 'NP\\n', 'NP\\n', 'NP\\n', 'NP\\n', 'NP\\n', 'NP\\n', 'NP\\n', 'NP\\n', 'NP\\n', 'NP\\n', 'NP\\n', 'NP\\n', 'NP\\n', 'NP\\n', 'NP\\n', 'NP\\n', 'NP\\n', 'NP\\n', 'NP\\n', 'NP\\n', 'NP\\n', 'NP\\n', 'NP\\n', 'NP\\n', 'NP\\n', 'NP\\n', 'NP\\n', 'NP\\n', 'NP\\n', 'NP\\n', 'NP\\n', 'NP\\n', 'NP\\n', 'NP\\n', 'NP\\n', 'NP\\n', 'NP\\n', 'NP\\n', 'NP\\n', 'NP\\n', 'NP\\n', 'NP\\n', 'NP\\n', 'NP\\n', 'NP\\n', 'NP\\n', 'NP\\n']\n",
            "['SP\\n', 'NP\\n', 'NP\\n', 'P\\n', 'P\\n', 'SP\\n', 'P\\n', 'NP\\n', 'NP\\n', 'NP\\n', 'NP\\n', 'NP\\n', 'SP\\n', 'SP\\n', 'P\\n', 'P\\n', 'NP\\n', 'NP\\n', 'NP\\n', 'NP\\n', 'P\\n', 'SP\\n', 'SP\\n', 'NP\\n', 'P\\n', 'NP\\n', 'NP\\n', 'NP\\n', 'NP\\n', 'NP\\n', 'NP\\n', 'SP\\n', 'SP\\n', 'P\\n', 'NP\\n', 'NP\\n', 'SP\\n', 'NP\\n', 'P\\n', 'P\\n', 'SP\\n', 'NP\\n', 'NP\\n', 'NP\\n', 'NP\\n', 'NP\\n', 'NP\\n', 'SP\\n', 'NP\\n', 'SP\\n', 'P\\n', 'P\\n', 'P\\n', 'P\\n', 'P\\n', 'NP\\n', 'NP\\n', 'NP\\n', 'SP\\n', 'SP\\n', 'NP\\n', 'NP\\n', 'NP\\n', 'SP\\n', 'P\\n', 'P\\n', 'NP\\n', 'SP\\n', 'NP\\n', 'SP\\n', 'P\\n', 'NP\\n', 'NP\\n', 'P\\n', 'SP\\n', 'P\\n', 'NP\\n', 'SP\\n', 'NP\\n', 'NP\\n', 'NP\\n', 'NP\\n', 'P\\n', 'NP\\n', 'P\\n', 'SP\\n', 'NP\\n', 'P\\n', 'P\\n', 'SP\\n', 'NP\\n', 'P\\n', 'NP\\n', 'NP\\n', 'NP\\n', 'NP\\n', 'NP\\n', 'NP\\n', 'NP\\n', 'NP\\n', 'NP\\n', 'NP\\n', 'NP\\n', 'SP\\n', 'NP\\n', 'P\\n', 'P\\n', 'P\\n', 'SP\\n', 'P\\n', 'P\\n', 'SP\\n', 'NP\\n', 'SP\\n', 'NP\\n', 'SP\\n', 'P\\n', 'SP\\n', 'SP\\n', 'P\\n', 'NP\\n', 'NP\\n', 'SP\\n', 'NP\\n', 'SP\\n', 'SP\\n', 'NP\\n', 'P\\n', 'NP\\n', 'SP\\n', 'NP\\n', 'SP\\n', 'NP\\n', 'NP\\n', 'P\\n', 'NP\\n', 'NP\\n', 'NP\\n', 'NP\\n', 'NP\\n', 'P\\n', 'NP\\n', 'SP\\n', 'SP\\n', 'P\\n', 'NP\\n', 'NP\\n', 'P\\n', 'SP\\n', 'P\\n', 'NP\\n', 'NP\\n', 'NP\\n', 'NP\\n', 'P\\n', 'SP\\n', 'NP\\n', 'SP\\n', 'SP\\n', 'NP\\n', 'P\\n', 'SP\\n', 'NP\\n', 'P\\n', 'NP\\n', 'NP\\n', 'P\\n', 'P\\n', 'NP\\n', 'P\\n', 'P\\n', 'P\\n', 'NP\\n', 'SP\\n', 'P\\n', 'P\\n', 'P\\n', 'SP\\n', 'NP\\n', 'SP\\n', 'NP\\n', 'NP\\n', 'P\\n', 'NP\\n', 'NP\\n', 'SP\\n', 'P\\n', 'SP\\n', 'NP\\n', 'P\\n', 'SP\\n', 'SP\\n', 'SP\\n', 'NP\\n', 'P\\n', 'P\\n', 'NP\\n', 'SP\\n', 'NP\\n', 'NP\\n', 'NP\\n', 'P\\n', 'P\\n', 'P\\n', 'NP\\n', 'NP\\n', 'P\\n', 'NP\\n', 'SP\\n', 'NP\\n', 'P\\n', 'SP\\n', 'SP\\n', 'P\\n', 'NP\\n', 'SP\\n', 'NP\\n', 'P\\n', 'NP\\n', 'SP\\n', 'SP\\n', 'NP\\n', 'NP\\n', 'P\\n', 'P\\n', 'P\\n', 'NP\\n', 'SP\\n', 'SP\\n', 'SP\\n', 'SP\\n', 'NP\\n', 'SP\\n', 'SP\\n', 'P\\n', 'SP\\n', 'NP\\n', 'SP\\n', 'NP\\n', 'NP\\n', 'SP\\n', 'P\\n', 'P\\n', 'SP\\n', 'P\\n', 'NP\\n', 'SP\\n', 'SP\\n', 'NP\\n', 'SP\\n', 'NP\\n', 'NP\\n', 'SP\\n', 'SP\\n', 'SP\\n', 'SP\\n', 'SP\\n', 'P\\n', 'P\\n', 'SP\\n', 'SP\\n', 'P\\n', 'SP\\n', 'P\\n', 'SP\\n', 'P\\n', 'P\\n', 'SP\\n', 'P\\n', 'NP\\n', 'SP\\n', 'SP\\n', 'SP\\n', 'SP\\n', 'P\\n', 'P\\n', 'NP\\n', 'SP\\n', 'NP\\n', 'P\\n', 'NP\\n', 'P\\n', 'P\\n', 'P\\n', 'P\\n', 'P\\n', 'P\\n', 'NP\\n', 'NP\\n', 'NP\\n', 'NP\\n', 'P\\n', 'P\\n', 'SP\\n', 'SP\\n', 'NP\\n', 'P\\n', 'SP\\n', 'SP\\n', 'SP\\n', 'NP\\n', 'SP\\n', 'SP\\n', 'P\\n', 'NP\\n', 'NP\\n', 'NP\\n', 'NP\\n', 'SP\\n', 'SP\\n', 'NP\\n', 'SP\\n', 'NP\\n', 'NP\\n', 'NP\\n', 'SP\\n', 'SP\\n', 'SP\\n', 'SP\\n', 'NP\\n', 'SP\\n', 'SP\\n', 'NP\\n', 'SP\\n', 'P\\n', 'SP\\n', 'P\\n', 'P\\n', 'SP\\n', 'P\\n', 'P\\n', 'SP\\n', 'SP\\n', 'SP\\n', 'P\\n', 'SP\\n', 'SP\\n', 'NP\\n', 'SP\\n', 'SP\\n', 'NP\\n', 'SP\\n', 'SP\\n', 'P\\n', 'SP\\n', 'SP\\n', 'NP\\n', 'SP\\n', 'SP\\n', 'SP\\n', 'NP\\n', 'SP\\n', 'SP\\n', 'SP\\n', 'NP\\n', 'SP\\n', 'SP\\n', 'SP\\n', 'SP\\n', 'SP\\n', 'SP\\n', 'SP\\n', 'SP\\n', 'SP\\n', 'SP\\n', 'P\\n', 'NP\\n', 'NP\\n', 'NP\\n', 'SP\\n', 'NP\\n', 'SP\\n', 'P\\n', 'NP\\n', 'NP\\n', 'NP\\n', 'SP\\n', 'P\\n', 'P\\n', 'SP\\n', 'NP\\n', 'NP\\n', 'NP\\n', 'SP\\n', 'P\\n', 'SP\\n', 'P\\n', 'NP\\n', 'SP\\n', 'SP\\n', 'P\\n', 'P\\n', 'P\\n', 'NP\\n', 'P\\n', 'NP\\n', 'NP\\n', 'SP\\n', 'NP\\n', 'SP\\n', 'SP\\n', 'NP\\n', 'P\\n', 'P\\n', 'NP\\n', 'SP\\n', 'SP\\n', 'NP\\n', 'SP\\n', 'NP\\n', 'P\\n', 'NP\\n', 'SP\\n', 'SP\\n', 'SP\\n', 'SP\\n', 'NP\\n', 'SP\\n', 'NP\\n', 'NP\\n', 'SP\\n', 'P\\n', 'NP\\n', 'NP\\n', 'NP\\n', 'NP\\n', 'SP\\n', 'SP\\n', 'SP\\n', 'NP\\n', 'NP\\n', 'SP\\n', 'SP\\n', 'SP\\n', 'NP\\n', 'NP\\n', 'SP\\n', 'P\\n', 'P\\n', 'P\\n', 'P\\n', 'P\\n', 'SP\\n', 'P\\n', 'SP\\n', 'P\\n', 'P\\n', 'SP\\n', 'NP\\n', 'NP\\n', 'P\\n', 'SP\\n', 'P\\n', 'SP\\n', 'SP\\n', 'SP\\n', 'NP\\n', 'NP\\n', 'SP\\n', 'NP\\n', 'P\\n', 'SP\\n', 'NP\\n', 'SP\\n', 'SP\\n', 'SP\\n', 'NP\\n', 'SP\\n', 'P\\n', 'SP\\n', 'P\\n', 'NP\\n', 'NP\\n', 'P\\n', 'NP\\n', 'SP\\n', 'SP\\n', 'SP\\n', 'P\\n', 'SP\\n', 'NP\\n', 'SP\\n', 'SP\\n', 'NP\\n', 'P\\n', 'NP\\n', 'NP\\n', 'NP\\n', 'P\\n', 'SP\\n', 'NP\\n', 'NP\\n', 'P\\n', 'NP\\n', 'P\\n', 'SP\\n', 'SP\\n', 'NP\\n', 'SP\\n', 'SP\\n', 'SP\\n', 'SP\\n', 'P\\n', 'P\\n', 'P\\n', 'P\\n', 'SP\\n', 'SP\\n', 'SP\\n', 'SP\\n', 'SP\\n', 'SP\\n', 'SP\\n', 'SP\\n', 'SP\\n', 'SP\\n', 'SP\\n', 'SP\\n', 'NP\\n', 'SP\\n', 'SP\\n', 'P\\n', 'SP\\n', 'SP\\n', 'SP\\n', 'P\\n', 'NP\\n', 'NP\\n', 'NP\\n', 'NP\\n', 'P\\n', 'NP\\n', 'P\\n', 'P\\n', 'NP\\n', 'P\\n', 'P\\n', 'NP\\n', 'P\\n', 'P\\n', 'P\\n', 'P\\n', 'P\\n', 'P\\n', 'P\\n', 'P\\n', 'P\\n', 'P\\n', 'P\\n', 'P\\n', 'SP\\n', 'P\\n', 'NP\\n', 'SP\\n', 'P\\n', 'P\\n', 'NP\\n', 'P\\n', 'SP\\n', 'SP\\n', 'P\\n', 'SP\\n', 'SP\\n', 'SP\\n', 'P\\n', 'NP\\n', 'NP\\n', 'P\\n', 'SP\\n', 'NP\\n', 'P\\n', 'NP\\n', 'NP\\n', 'P\\n', 'P\\n', 'SP\\n', 'SP\\n', 'SP\\n', 'NP\\n', 'SP\\n', 'NP\\n', 'NP\\n', 'P\\n', 'SP\\n', 'NP\\n', 'SP\\n', 'SP\\n', 'P\\n', 'NP\\n', 'SP\\n', 'NP\\n', 'P\\n', 'P\\n', 'P\\n', 'P\\n', 'SP\\n', 'P\\n', 'NP\\n', 'P\\n', 'SP\\n', 'SP\\n', 'SP\\n', 'P\\n', 'P\\n', 'NP\\n', 'NP\\n', 'P\\n', 'P\\n', 'P\\n', 'NP\\n', 'P\\n', 'SP\\n', 'P\\n', 'NP\\n', 'P\\n', 'NP\\n', 'NP\\n', 'SP\\n', 'NP\\n', 'P\\n', 'SP\\n', 'P\\n', 'NP\\n', 'SP\\n', 'SP\\n', 'NP\\n', 'NP\\n', 'SP\\n', 'NP\\n', 'P\\n', 'NP\\n', 'NP\\n', 'P\\n', 'NP\\n', 'P\\n', 'P\\n', 'NP\\n', 'SP\\n', 'SP\\n', 'NP\\n', 'NP\\n', 'P\\n', 'P\\n', 'NP\\n', 'NP\\n', 'P\\n', 'NP\\n', 'P\\n', 'NP\\n', 'P\\n', 'NP\\n', 'NP\\n', 'NP\\n', 'NP\\n', 'SP\\n', 'P\\n', 'P\\n', 'P\\n', 'SP\\n', 'SP\\n', 'SP\\n', 'P\\n', 'NP\\n', 'SP\\n', 'P\\n', 'NP\\n', 'NP\\n', 'P\\n', 'P\\n', 'SP\\n', 'SP\\n', 'SP\\n', 'SP\\n', 'SP\\n', 'SP\\n', 'SP\\n', 'SP\\n', 'SP\\n', 'SP\\n', 'P\\n', 'P\\n', 'P\\n', 'SP\\n', 'NP\\n', 'P\\n', 'NP\\n', 'NP\\n', 'NP\\n', 'P\\n', 'NP\\n', 'NP\\n', 'NP\\n', 'SP\\n', 'P\\n', 'P\\n', 'SP\\n', 'SP\\n', 'SP\\n', 'SP\\n', 'NP\\n', 'P\\n', 'P\\n', 'P\\n', 'SP\\n', 'P\\n', 'NP\\n', 'NP\\n', 'SP\\n', 'SP\\n', 'NP\\n', 'SP\\n', 'SP\\n', 'SP\\n', 'NP\\n', 'NP\\n', 'P\\n', 'P\\n', 'NP\\n', 'NP\\n', 'NP\\n', 'P\\n', 'NP\\n', 'P\\n', 'SP\\n', 'NP\\n', 'P\\n', 'P\\n', 'SP\\n', 'SP\\n', 'SP\\n', 'NP\\n', 'SP\\n', 'P\\n', 'P\\n', 'NP\\n', 'P\\n', 'SP\\n', 'NP\\n', 'P\\n', 'NP\\n', 'NP\\n', 'SP\\n', 'SP\\n', 'P\\n', 'NP\\n', 'NP\\n', 'SP\\n', 'NP\\n', 'SP\\n', 'SP\\n', 'SP\\n', 'SP\\n', 'NP\\n', 'P\\n', 'NP\\n', 'NP\\n', 'SP\\n', 'SP\\n', 'NP\\n', 'SP\\n', 'SP\\n', 'NP\\n', 'NP\\n', 'NP\\n', 'SP\\n', 'SP\\n', 'NP\\n', 'P\\n', 'P\\n', 'SP\\n', 'SP\\n', 'SP\\n', 'P\\n', 'SP\\n', 'SP\\n', 'P\\n', 'SP\\n', 'P\\n', 'P\\n', 'NP\\n', 'SP\\n', 'SP\\n', 'P\\n', 'SP\\n', 'SP\\n', 'NP\\n', 'SP\\n', 'P\\n', 'SP\\n', 'P\\n', 'P\\n', 'P\\n', 'NP\\n', 'SP\\n', 'P\\n', 'SP\\n', 'NP\\n', 'SP\\n', 'NP\\n', 'NP\\n', 'NP\\n', 'P\\n', 'SP\\n', 'SP\\n', 'P\\n', 'SP\\n', 'NP\\n', 'P\\n', 'NP\\n', 'P\\n', 'NP\\n', 'P\\n', 'SP\\n', 'SP\\n', 'SP\\n', 'SP\\n', 'SP\\n', 'SP\\n', 'SP\\n', 'P\\n', 'NP\\n', 'NP\\n', 'SP\\n', 'P\\n', 'NP\\n', 'SP\\n', 'SP\\n', 'P\\n', 'NP\\n', 'NP\\n', 'P\\n', 'P\\n', 'SP\\n', 'SP\\n', 'NP\\n', 'NP\\n', 'NP\\n', 'NP\\n', 'NP\\n', 'NP\\n', 'NP\\n', 'NP\\n', 'NP\\n', 'SP\\n', 'P\\n', 'P\\n', 'P\\n', 'NP\\n', 'P\\n', 'NP\\n', 'P\\n', 'NP\\n', 'P\\n', 'SP\\n', 'SP\\n', 'P\\n', 'NP\\n', 'P\\n', 'P\\n', 'SP\\n', 'SP\\n', 'P\\n', 'P\\n', 'NP\\n', 'NP\\n', 'P\\n', 'P\\n', 'NP\\n', 'SP\\n', 'NP\\n', 'NP\\n', 'P\\n', 'NP\\n', 'NP\\n', 'SP\\n', 'NP\\n', 'NP\\n', 'NP\\n', 'SP\\n', 'NP\\n', 'NP\\n', 'NP\\n', 'NP\\n', 'SP\\n', 'SP\\n', 'SP\\n', 'P\\n', 'SP\\n', 'SP\\n', 'SP\\n', 'SP\\n', 'SP\\n', 'SP\\n', 'P\\n', 'SP\\n', 'P\\n', 'SP\\n', 'P\\n', 'NP\\n', 'NP\\n', 'SP\\n', 'NP\\n', 'SP\\n', 'NP\\n', 'SP\\n', 'SP\\n', 'SP\\n', 'NP\\n', 'P\\n', 'P\\n', 'NP\\n', 'NP\\n', 'P\\n', 'P\\n', 'NP\\n', 'NP\\n', 'NP\\n', 'NP\\n', 'P\\n', 'NP\\n', 'P\\n', 'NP\\n', 'P\\n', 'SP\\n', 'P\\n', 'SP\\n', 'P\\n', 'SP\\n', 'NP\\n', 'P\\n', 'P\\n', 'NP\\n', 'SP\\n', 'SP\\n', 'SP\\n', 'P\\n', 'P\\n', 'P\\n', 'SP\\n', 'NP\\n', 'NP\\n', 'NP\\n', 'SP\\n', 'P\\n', 'NP\\n', 'NP\\n', 'NP\\n', 'SP\\n', 'P\\n', 'SP\\n', 'NP\\n', 'NP\\n', 'P\\n', 'P\\n', 'SP\\n', 'NP\\n', 'P\\n', 'NP\\n', 'P\\n', 'NP\\n', 'NP\\n', 'NP\\n', 'SP\\n', 'SP\\n', 'SP\\n', 'P\\n', 'NP\\n', 'NP\\n', 'SP\\n', 'SP\\n', 'SP\\n', 'SP\\n', 'NP\\n', 'P\\n', 'NP\\n', 'P\\n', 'SP\\n', 'SP\\n', 'NP\\n', 'SP\\n', 'SP\\n', 'SP\\n', 'P\\n', 'SP\\n', 'SP\\n', 'P\\n', 'NP\\n', 'P\\n', 'P\\n', 'P\\n', 'SP\\n', 'SP\\n', 'NP\\n', 'SP\\n', 'NP\\n', 'SP\\n', 'NP\\n', 'SP\\n', 'SP\\n', 'P\\n', 'NP\\n', 'SP\\n', 'NP\\n', 'SP\\n', 'P\\n', 'NP\\n', 'SP\\n', 'SP\\n', 'SP\\n', 'SP\\n', 'SP\\n', 'SP\\n', 'NP\\n', 'P\\n', 'NP\\n', 'P\\n', 'NP\\n', 'NP\\n', 'SP\\n', 'P\\n', 'SP\\n', 'P\\n', 'NP\\n', 'SP\\n', 'SP\\n', 'SP\\n', 'NP\\n', 'P\\n', 'SP\\n', 'SP\\n', 'NP\\n', 'NP\\n', 'NP\\n', 'SP\\n', 'SP\\n', 'SP\\n', 'P\\n', 'NP\\n', 'NP\\n', 'P\\n', 'SP\\n', 'NP\\n', 'NP\\n', 'NP\\n', 'NP\\n', 'P\\n', 'NP\\n', 'SP\\n', 'NP\\n', 'SP\\n', 'NP\\n', 'SP\\n', 'SP\\n', 'SP\\n', 'P\\n', 'SP\\n', 'NP\\n', 'SP\\n', 'NP\\n', 'P\\n', 'NP\\n', 'SP\\n', 'SP\\n', 'P\\n', 'SP\\n', 'P\\n', 'SP\\n', 'SP\\n', 'P\\n', 'SP\\n', 'NP\\n', 'SP\\n', 'SP\\n', 'SP\\n', 'NP\\n', 'NP\\n', 'NP\\n', 'SP\\n', 'P\\n', 'SP\\n', 'SP\\n', 'SP\\n', 'P\\n', 'P\\n', 'P\\n', 'SP\\n', 'P\\n', 'SP\\n', 'NP\\n', 'SP\\n', 'NP\\n', 'NP\\n', 'SP\\n', 'NP\\n', 'NP\\n', 'NP\\n', 'P\\n', 'P\\n', 'P\\n', 'NP\\n', 'NP\\n', 'NP\\n', 'SP\\n', 'SP\\n', 'SP\\n', 'P\\n', 'P\\n', 'P\\n', 'P\\n', 'NP\\n', 'P\\n', 'NP\\n', 'SP\\n', 'P\\n', 'SP\\n', 'NP\\n', 'SP\\n', 'P\\n', 'P\\n', 'P\\n', 'NP\\n', 'P\\n', 'NP\\n', 'NP\\n', 'NP\\n', 'NP\\n', 'NP\\n', 'NP\\n', 'P\\n', 'P\\n', 'P\\n', 'NP\\n', 'P\\n', 'SP\\n', 'SP\\n', 'SP\\n', 'P\\n', 'NP\\n', 'NP\\n', 'NP\\n', 'P\\n', 'SP\\n', 'NP\\n', 'SP\\n', 'P\\n', 'NP\\n', 'P\\n', 'SP\\n', 'P\\n', 'SP\\n', 'NP\\n', 'P\\n', 'NP\\n', 'NP\\n', 'P\\n', 'P\\n', 'SP\\n', 'NP\\n', 'SP\\n', 'NP\\n', 'P\\n', 'NP\\n', 'NP\\n', 'NP\\n', 'NP\\n', 'SP\\n', 'NP\\n', 'NP\\n', 'NP\\n', 'NP\\n', 'SP\\n', 'SP\\n', 'P\\n', 'NP\\n', 'SP\\n', 'P\\n', 'P\\n', 'NP\\n', 'SP\\n', 'NP\\n', 'NP\\n', 'SP\\n', 'SP\\n', 'NP\\n', 'NP\\n', 'SP\\n', 'SP\\n', 'NP\\n', 'NP\\n', 'P\\n', 'P\\n', 'SP\\n', 'SP\\n', 'P\\n', 'SP\\n', 'SP\\n', 'P\\n', 'NP\\n', 'NP\\n', 'NP\\n', 'SP\\n', 'SP\\n', 'SP\\n', 'SP\\n', 'SP\\n', 'SP\\n', 'NP\\n', 'SP\\n', 'NP\\n', 'P\\n', 'P\\n', 'SP\\n', 'P\\n', 'NP\\n', 'NP\\n', 'NP\\n', 'SP\\n', 'NP\\n', 'SP\\n', 'NP\\n', 'SP\\n', 'NP\\n', 'SP\\n', 'NP\\n', 'SP\\n', 'NP\\n', 'NP\\n', 'NP\\n', 'P\\n', 'P\\n', 'P\\n', 'NP\\n', 'P\\n', 'SP\\n', 'NP\\n', 'NP\\n', 'SP\\n', 'P\\n', 'NP\\n', 'P\\n', 'NP\\n', 'NP\\n', 'SP\\n', 'NP\\n', 'SP\\n', 'NP\\n', 'NP\\n', 'SP\\n', 'P\\n', 'SP\\n', 'NP\\n', 'SP\\n', 'NP\\n', 'P\\n', 'SP\\n', 'SP\\n', 'NP\\n', 'SP\\n', 'P\\n', 'P\\n', 'SP\\n', 'SP\\n', 'P\\n', 'P\\n', 'P\\n', 'SP\\n', 'P\\n', 'P\\n', 'SP\\n', 'P\\n', 'P\\n', 'SP\\n', 'SP\\n', 'NP\\n', 'NP\\n', 'SP\\n', 'NP\\n', 'P\\n', 'SP\\n', 'SP\\n', 'NP\\n', 'P\\n', 'P\\n', 'P\\n', 'NP\\n', 'SP\\n', 'NP\\n', 'SP\\n', 'NP\\n', 'SP\\n', 'NP\\n', 'NP\\n', 'SP\\n', 'SP\\n', 'SP\\n', 'SP\\n', 'NP\\n', 'P\\n', 'NP\\n', 'SP\\n', 'P\\n', 'SP\\n', 'SP\\n', 'P\\n', 'NP\\n', 'SP\\n', 'SP\\n', 'P\\n', 'NP\\n', 'NP\\n', 'P\\n', 'NP\\n', 'NP\\n', 'NP\\n', 'P\\n', 'P\\n', 'SP\\n', 'SP\\n', 'P\\n', 'P\\n', 'SP\\n', 'P\\n', 'P\\n', 'SP\\n', 'P\\n', 'NP\\n', 'NP\\n', 'SP\\n', 'SP\\n', 'P\\n', 'SP\\n', 'SP\\n', 'SP\\n', 'SP\\n', 'NP\\n', 'NP\\n', 'P\\n', 'SP\\n', 'SP\\n', 'SP\\n', 'P\\n', 'NP\\n', 'P\\n', 'P\\n', 'P\\n', 'P\\n', 'P\\n', 'P\\n', 'NP\\n', 'NP\\n', 'SP\\n', 'SP\\n', 'SP\\n', 'NP\\n', 'P\\n', 'NP\\n', 'P\\n', 'NP\\n', 'P\\n', 'NP\\n', 'NP\\n', 'P\\n', 'NP\\n', 'NP\\n', 'P\\n', 'P\\n', 'NP\\n', 'P\\n', 'P\\n', 'SP\\n', 'SP\\n', 'NP\\n', 'NP\\n', 'NP\\n', 'NP\\n', 'P\\n', 'SP\\n', 'NP\\n', 'P\\n', 'SP\\n', 'P\\n', 'NP\\n', 'SP\\n', 'SP\\n', 'NP\\n', 'SP\\n', 'P\\n', 'SP\\n', 'P\\n', 'NP\\n', 'NP\\n', 'P\\n', 'NP\\n', 'SP\\n', 'NP\\n', 'NP\\n', 'P\\n', 'P\\n', 'SP\\n', 'NP\\n']\n"
          ],
          "name": "stdout"
        }
      ]
    },
    {
      "cell_type": "code",
      "metadata": {
        "id": "Hf4wZLTdFlxz",
        "colab_type": "code",
        "colab": {
          "base_uri": "https://localhost:8080/",
          "height": 34
        },
        "outputId": "8432f7b1-c802-4d88-942b-9145388f80bf"
      },
      "source": [
        "from sklearn.metrics import accuracy_score\n",
        "y_pred = content_array_1\n",
        "y_true = content_array_2\n",
        "accuracy_score(y_true, y_pred)\n",
        "accuracy_score(y_true, y_pred, normalize=True)"
      ],
      "execution_count": 24,
      "outputs": [
        {
          "output_type": "execute_result",
          "data": {
            "text/plain": [
              "0.35714285714285715"
            ]
          },
          "metadata": {
            "tags": []
          },
          "execution_count": 24
        }
      ]
    },
    {
      "cell_type": "code",
      "metadata": {
        "id": "UXtf4X2HFnaZ",
        "colab_type": "code",
        "colab": {
          "base_uri": "https://localhost:8080/",
          "height": 90
        },
        "outputId": "b7af3168-1249-4cbd-9afa-afc3dd389fd6"
      },
      "source": [
        "from sklearn.metrics import precision_score\n",
        "y_true = content_array_2\n",
        "y_pred = content_array_1\n",
        "precision_score(y_true, y_pred, average='weighted')"
      ],
      "execution_count": 25,
      "outputs": [
        {
          "output_type": "stream",
          "text": [
            "/usr/local/lib/python3.6/dist-packages/sklearn/metrics/_classification.py:1272: UndefinedMetricWarning: Precision is ill-defined and being set to 0.0 in labels with no predicted samples. Use `zero_division` parameter to control this behavior.\n",
            "  _warn_prf(average, modifier, msg_start, len(result))\n"
          ],
          "name": "stderr"
        },
        {
          "output_type": "execute_result",
          "data": {
            "text/plain": [
              "0.12755102040816327"
            ]
          },
          "metadata": {
            "tags": []
          },
          "execution_count": 25
        }
      ]
    },
    {
      "cell_type": "code",
      "metadata": {
        "id": "nch-j7dXFu_r",
        "colab_type": "code",
        "colab": {
          "base_uri": "https://localhost:8080/",
          "height": 34
        },
        "outputId": "5693db45-1c37-4e75-e1f9-4ed3594b6383"
      },
      "source": [
        "from sklearn.metrics import f1_score\n",
        "y_true = content_array_2\n",
        "y_pred = content_array_1\n",
        "f1_score(y_true, y_pred, average='weighted')"
      ],
      "execution_count": 26,
      "outputs": [
        {
          "output_type": "execute_result",
          "data": {
            "text/plain": [
              "0.18796992481203006"
            ]
          },
          "metadata": {
            "tags": []
          },
          "execution_count": 26
        }
      ]
    }
  ]
}