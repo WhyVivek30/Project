{
  "nbformat": 4,
  "nbformat_minor": 0,
  "metadata": {
    "colab": {
      "name": "Use Final Version.ipynb",
      "provenance": [],
      "collapsed_sections": [],
      "mount_file_id": "1obxB6oeR7lJy0w2S20ILFGrVYGuFemzj",
      "authorship_tag": "ABX9TyPYMo21wJn8KRS1Y5GWEbnm",
      "include_colab_link": true
    },
    "kernelspec": {
      "name": "python3",
      "display_name": "Python 3"
    }
  },
  "cells": [
    {
      "cell_type": "markdown",
      "metadata": {
        "id": "view-in-github",
        "colab_type": "text"
      },
      "source": [
        "<a href=\"https://colab.research.google.com/github/WhyVivek30/Project/blob/master/Use_Final_Version.ipynb\" target=\"_parent\"><img src=\"https://colab.research.google.com/assets/colab-badge.svg\" alt=\"Open In Colab\"/></a>"
      ]
    },
    {
      "cell_type": "code",
      "metadata": {
        "id": "xDV2adOl4x0e",
        "colab_type": "code",
        "colab": {}
      },
      "source": [
        "!pip install tensorflow==2.3\n",
        "!pip install \"tensorflow_hub>=0.6.0\"\n",
        "!pip3 install tensorflow_text==2.3\n",
        "\n",
        "import tensorflow as tf\n",
        "import tensorflow_hub as hub\n",
        "import numpy as np\n",
        "import tensorflow_text\n",
        "\n",
        "embed = hub.Module(\"https://tfhub.dev/google/universal-sentence-encoder-large/3\")"
      ],
      "execution_count": null,
      "outputs": []
    },
    {
      "cell_type": "code",
      "metadata": {
        "id": "ZgpRQCNK962P",
        "colab_type": "code",
        "colab": {}
      },
      "source": [
        "import matplotlib.pyplot as plt\n",
        "import numpy as np\n",
        "import os\n",
        "import seaborn as sns\n",
        "import keras.layers as layers\n",
        "from keras.models import Model\n",
        "from keras import backend as K\n",
        "np.random.seed(10)"
      ],
      "execution_count": 33,
      "outputs": []
    },
    {
      "cell_type": "code",
      "metadata": {
        "id": "oTlfi0VF5mwj",
        "colab_type": "code",
        "colab": {
          "base_uri": "https://localhost:8080/",
          "height": 285
        },
        "outputId": "5ec8ab38-0867-4e38-de2a-20827eb6a8d6"
      },
      "source": [
        "word = \"Elephant\"\n",
        "sentence = \"I am a sentence for which I would like to get its embedding.\"\n",
        "paragraph = (\n",
        "    \"Universal Sentence Encoder embeddings also support short paragraphs. \"\n",
        "    \"There is no hard limit on how long the paragraph is. Roughly, the longer \"\n",
        "    \"the more 'diluted' the embedding will be.\")\n",
        "messages = [word, sentence, paragraph]\n",
        "\n",
        "\n",
        "\n",
        "with tf.Session() as session:\n",
        "  session.run([tf.global_variables_initializer(), tf.tables_initializer()])\n",
        "  message_embeddings = session.run(embed(messages))\n",
        "\n",
        "  for i, message_embedding in enumerate(np.array(message_embeddings).tolist()):\n",
        "    print(\"Message: {}\".format(messages[i]))\n",
        "    print(\"Embedding size: {}\".format(len(message_embedding)))\n",
        "    message_embedding_snippet = \", \".join(\n",
        "        (str(x) for x in message_embedding[:3]))\n",
        "    print(\"Embedding: [{}, ...]\\n\".format(message_embedding_snippet))"
      ],
      "execution_count": 34,
      "outputs": [
        {
          "output_type": "stream",
          "text": [
            "INFO:tensorflow:Saver not created because there are no variables in the graph to restore\n"
          ],
          "name": "stdout"
        },
        {
          "output_type": "stream",
          "text": [
            "INFO:tensorflow:Saver not created because there are no variables in the graph to restore\n"
          ],
          "name": "stderr"
        },
        {
          "output_type": "stream",
          "text": [
            "Message: Elephant\n",
            "Embedding size: 512\n",
            "Embedding: [0.04498472809791565, -0.057433921843767166, 0.0022114901803433895, ...]\n",
            "\n",
            "Message: I am a sentence for which I would like to get its embedding.\n",
            "Embedding size: 512\n",
            "Embedding: [0.055680178105831146, -0.009607940912246704, 0.006246272940188646, ...]\n",
            "\n",
            "Message: Universal Sentence Encoder embeddings also support short paragraphs. There is no hard limit on how long the paragraph is. Roughly, the longer the more 'diluted' the embedding will be.\n",
            "Embedding size: 512\n",
            "Embedding: [0.03874940052628517, 0.0765201598405838, -0.000794590450823307, ...]\n",
            "\n"
          ],
          "name": "stdout"
        }
      ]
    },
    {
      "cell_type": "code",
      "metadata": {
        "id": "cN8w9c8sBMbc",
        "colab_type": "code",
        "colab": {
          "base_uri": "https://localhost:8080/",
          "height": 123
        },
        "outputId": "30ecb3f1-b48f-4842-ef43-81428c378b51"
      },
      "source": [
        "# Compute a representation for each message, showing various lengths supported.\n",
        "messages = [\"That band rocks!\", \"That song is really cool.\"]\n",
        "\n",
        "with tf.Session() as session:\n",
        "  session.run([tf.global_variables_initializer(), tf.tables_initializer()])\n",
        "  message_embeddings = session.run(embed(messages))\n",
        "message_embeddings"
      ],
      "execution_count": 35,
      "outputs": [
        {
          "output_type": "stream",
          "text": [
            "INFO:tensorflow:Saver not created because there are no variables in the graph to restore\n"
          ],
          "name": "stdout"
        },
        {
          "output_type": "stream",
          "text": [
            "INFO:tensorflow:Saver not created because there are no variables in the graph to restore\n"
          ],
          "name": "stderr"
        },
        {
          "output_type": "execute_result",
          "data": {
            "text/plain": [
              "array([[ 0.00341093, -0.0381117 , -0.01249461, ..., -0.03188571,\n",
              "         0.03693528, -0.04350929],\n",
              "       [ 0.00599076, -0.03070363,  0.02946817, ..., -0.01874218,\n",
              "         0.05244366,  0.01933834]], dtype=float32)"
            ]
          },
          "metadata": {
            "tags": []
          },
          "execution_count": 35
        }
      ]
    },
    {
      "cell_type": "code",
      "metadata": {
        "id": "8JJI6TwaBXUB",
        "colab_type": "code",
        "colab": {
          "base_uri": "https://localhost:8080/",
          "height": 34
        },
        "outputId": "d0a8df4d-ba39-495d-c5c0-6be6d5952c04"
      },
      "source": [
        "embed_size = embed.get_output_info_dict()['default'].get_shape()[1].value\n",
        "embed_size"
      ],
      "execution_count": 36,
      "outputs": [
        {
          "output_type": "execute_result",
          "data": {
            "text/plain": [
              "512"
            ]
          },
          "metadata": {
            "tags": []
          },
          "execution_count": 36
        }
      ]
    },
    {
      "cell_type": "code",
      "metadata": {
        "id": "RKUmt5fuBaRc",
        "colab_type": "code",
        "colab": {
          "base_uri": "https://localhost:8080/",
          "height": 197
        },
        "outputId": "5113e33e-6b3f-4f92-e26d-e81e5ab82f52"
      },
      "source": [
        "import codecs\n",
        "import pandas as pd\n",
        "def get_dataframe(filename):\n",
        "    lines = open(filename, 'r', encoding=\"utf-8\").read().splitlines()\n",
        "    data = []\n",
        "    for i in range(0, len(lines)):\n",
        "        label = lines[i].split(' ')[0]\n",
        "        label = label.split(\":\")[0]\n",
        "        text = ' '.join(lines[i].split(' ')[1:])\n",
        "       # text = re.sub('[^A-Za-z0-9 ,\\?\\'\\\"-._\\+\\!/\\`@=;:]+', '', text)\n",
        "        data.append([label, text])\n",
        "\n",
        "    df = pd.DataFrame(data, columns=['label', 'text'])\n",
        "    df.label = df.label.astype('category')\n",
        "    return df\n",
        "\n",
        "df_train = get_dataframe('/content/drive/My Drive/Malayalam Task 2/malayalam_train.txt')\n",
        "df_train.head()"
      ],
      "execution_count": 37,
      "outputs": [
        {
          "output_type": "execute_result",
          "data": {
            "text/html": [
              "<div>\n",
              "<style scoped>\n",
              "    .dataframe tbody tr th:only-of-type {\n",
              "        vertical-align: middle;\n",
              "    }\n",
              "\n",
              "    .dataframe tbody tr th {\n",
              "        vertical-align: top;\n",
              "    }\n",
              "\n",
              "    .dataframe thead th {\n",
              "        text-align: right;\n",
              "    }\n",
              "</style>\n",
              "<table border=\"1\" class=\"dataframe\">\n",
              "  <thead>\n",
              "    <tr style=\"text-align: right;\">\n",
              "      <th></th>\n",
              "      <th>label</th>\n",
              "      <th>text</th>\n",
              "    </tr>\n",
              "  </thead>\n",
              "  <tbody>\n",
              "    <tr>\n",
              "      <th>0</th>\n",
              "      <td>P</td>\n",
              "      <td>ਗੁਜਰਾਤ ਦੇ ਮੁੱਖ ਮੰਤਰੀ ਨਰਿੰਦਰ ਮੋਦੀ ਦਾ ਸਦਭਾਵਨਾ ਮਿ...</td>\n",
              "    </tr>\n",
              "    <tr>\n",
              "      <th>1</th>\n",
              "      <td>P</td>\n",
              "      <td>ਪੰਜਾਬ ਵਿਚ ਨਿੱਤ-ਦਿਨ ਵਾਪਰ ਰਹੀਆਂ ਲੁੱਟ-ਖਸੁੱਟ ਦੀਆਂ ...</td>\n",
              "    </tr>\n",
              "    <tr>\n",
              "      <th>2</th>\n",
              "      <td>P</td>\n",
              "      <td>ਪੱਛਮੀ ਬੰਗਾਲ ਵਿਚ 1977 ਤੋਂ ਲਗਾਤਾਰ ਖੱਬੇ-ਪੱਖੀ ਪਾਰਟ...</td>\n",
              "    </tr>\n",
              "    <tr>\n",
              "      <th>3</th>\n",
              "      <td>P</td>\n",
              "      <td>ਮਾਨਸਾ ਰੋਡ ‘ਤੇ ਸ੍ਰੀ ਵਾਲਮੀਕ ਚੌਕ ਨੇੜੇ ਤੇਲ ਟੈਂਕਰ ਨ...</td>\n",
              "    </tr>\n",
              "    <tr>\n",
              "      <th>4</th>\n",
              "      <td>P</td>\n",
              "      <td>ਪੁਲਿਸ ਨੇ ਢਕੌਲੀ ਦੇ ਆਦਰਸ਼ ਕਾਲੋਨੀ ਦੇ ਫਲੈਟ ਵਿਚ ਛਾਪ...</td>\n",
              "    </tr>\n",
              "  </tbody>\n",
              "</table>\n",
              "</div>"
            ],
            "text/plain": [
              "  label                                               text\n",
              "0     P  ਗੁਜਰਾਤ ਦੇ ਮੁੱਖ ਮੰਤਰੀ ਨਰਿੰਦਰ ਮੋਦੀ ਦਾ ਸਦਭਾਵਨਾ ਮਿ...\n",
              "1     P  ਪੰਜਾਬ ਵਿਚ ਨਿੱਤ-ਦਿਨ ਵਾਪਰ ਰਹੀਆਂ ਲੁੱਟ-ਖਸੁੱਟ ਦੀਆਂ ...\n",
              "2     P  ਪੱਛਮੀ ਬੰਗਾਲ ਵਿਚ 1977 ਤੋਂ ਲਗਾਤਾਰ ਖੱਬੇ-ਪੱਖੀ ਪਾਰਟ...\n",
              "3     P  ਮਾਨਸਾ ਰੋਡ ‘ਤੇ ਸ੍ਰੀ ਵਾਲਮੀਕ ਚੌਕ ਨੇੜੇ ਤੇਲ ਟੈਂਕਰ ਨ...\n",
              "4     P  ਪੁਲਿਸ ਨੇ ਢਕੌਲੀ ਦੇ ਆਦਰਸ਼ ਕਾਲੋਨੀ ਦੇ ਫਲੈਟ ਵਿਚ ਛਾਪ..."
            ]
          },
          "metadata": {
            "tags": []
          },
          "execution_count": 37
        }
      ]
    },
    {
      "cell_type": "code",
      "metadata": {
        "id": "A5FGuDwSCFyk",
        "colab_type": "code",
        "colab": {}
      },
      "source": [
        "df_train = get_dataframe('/content/drive/My Drive/Malayalam Task 2/malayalam_train.txt')"
      ],
      "execution_count": 13,
      "outputs": []
    },
    {
      "cell_type": "code",
      "metadata": {
        "id": "UhEjhf6tCMW6",
        "colab_type": "code",
        "colab": {
          "base_uri": "https://localhost:8080/",
          "height": 34
        },
        "outputId": "c739c1b5-96ac-4a90-89c7-f2ad3e12cacd"
      },
      "source": [
        "category_counts = len(df_train.label.cat.categories)\n",
        "category_counts"
      ],
      "execution_count": 14,
      "outputs": [
        {
          "output_type": "execute_result",
          "data": {
            "text/plain": [
              "3"
            ]
          },
          "metadata": {
            "tags": []
          },
          "execution_count": 14
        }
      ]
    },
    {
      "cell_type": "code",
      "metadata": {
        "id": "6tM4lGE1CQcG",
        "colab_type": "code",
        "colab": {}
      },
      "source": [
        "def UniversalEmbedding(x):\n",
        "    return embed(tf.squeeze(tf.cast(x, tf.string)), signature=\"default\", as_dict=True)[\"default\"]"
      ],
      "execution_count": 15,
      "outputs": []
    },
    {
      "cell_type": "code",
      "metadata": {
        "id": "EqN_v1MRCS84",
        "colab_type": "code",
        "colab": {
          "base_uri": "https://localhost:8080/",
          "height": 336
        },
        "outputId": "af82532e-f700-488b-dabc-854faf8259ee"
      },
      "source": [
        "input_text = layers.Input(shape=(1,), dtype=tf.string)\n",
        "embedding = layers.Lambda(UniversalEmbedding, output_shape=(embed_size,))(input_text)\n",
        "dense = layers.Dense(256, activation='relu')(embedding)\n",
        "pred = layers.Dense(category_counts, activation='softmax')(dense)\n",
        "model = Model(inputs=[input_text], outputs=pred)\n",
        "model.compile(loss='categorical_crossentropy', optimizer='adam', metrics=['accuracy'])\n",
        "model.summary()"
      ],
      "execution_count": 17,
      "outputs": [
        {
          "output_type": "stream",
          "text": [
            "INFO:tensorflow:Saver not created because there are no variables in the graph to restore\n"
          ],
          "name": "stdout"
        },
        {
          "output_type": "stream",
          "text": [
            "INFO:tensorflow:Saver not created because there are no variables in the graph to restore\n"
          ],
          "name": "stderr"
        },
        {
          "output_type": "stream",
          "text": [
            "Model: \"model_2\"\n",
            "_________________________________________________________________\n",
            "Layer (type)                 Output Shape              Param #   \n",
            "=================================================================\n",
            "input_2 (InputLayer)         (None, 1)                 0         \n",
            "_________________________________________________________________\n",
            "lambda_2 (Lambda)            (None, 512)               0         \n",
            "_________________________________________________________________\n",
            "dense_3 (Dense)              (None, 256)               131328    \n",
            "_________________________________________________________________\n",
            "dense_4 (Dense)              (None, 3)                 771       \n",
            "=================================================================\n",
            "Total params: 132,099\n",
            "Trainable params: 132,099\n",
            "Non-trainable params: 0\n",
            "_________________________________________________________________\n"
          ],
          "name": "stdout"
        }
      ]
    },
    {
      "cell_type": "code",
      "metadata": {
        "id": "Ut8Xxu6HEz3V",
        "colab_type": "code",
        "colab": {}
      },
      "source": [
        "train_text = df_train['text'].tolist()\n",
        "train_text = np.array(train_text, dtype=object)[:, np.newaxis]\n",
        "\n",
        "train_label = np.asarray(pd.get_dummies(df_train.label), dtype = np.int8)"
      ],
      "execution_count": 18,
      "outputs": []
    },
    {
      "cell_type": "code",
      "metadata": {
        "id": "sSfB9MM8E3w3",
        "colab_type": "code",
        "colab": {
          "base_uri": "https://localhost:8080/",
          "height": 33
        },
        "outputId": "3dfc42f9-42d8-4214-ea6c-4f6b4d615107"
      },
      "source": [
        "train_text.shape"
      ],
      "execution_count": 19,
      "outputs": [
        {
          "output_type": "execute_result",
          "data": {
            "text/plain": [
              "(1759, 1)"
            ]
          },
          "metadata": {
            "tags": []
          },
          "execution_count": 19
        }
      ]
    },
    {
      "cell_type": "code",
      "metadata": {
        "id": "yI5BjO0ME7ou",
        "colab_type": "code",
        "colab": {
          "base_uri": "https://localhost:8080/",
          "height": 33
        },
        "outputId": "79901ad1-2f52-40fb-b606-4a6efbf02452"
      },
      "source": [
        "train_label.shape"
      ],
      "execution_count": 20,
      "outputs": [
        {
          "output_type": "execute_result",
          "data": {
            "text/plain": [
              "(1759, 3)"
            ]
          },
          "metadata": {
            "tags": []
          },
          "execution_count": 20
        }
      ]
    },
    {
      "cell_type": "code",
      "metadata": {
        "id": "ZVsX8PJnFD-R",
        "colab_type": "code",
        "colab": {
          "base_uri": "https://localhost:8080/",
          "height": 66
        },
        "outputId": "5bbcf563-bfdf-417e-ae12-cc2f5770a579"
      },
      "source": [
        "train_label[:3]"
      ],
      "execution_count": 21,
      "outputs": [
        {
          "output_type": "execute_result",
          "data": {
            "text/plain": [
              "array([[0, 1, 0],\n",
              "       [0, 1, 0],\n",
              "       [0, 1, 0]], dtype=int8)"
            ]
          },
          "metadata": {
            "tags": []
          },
          "execution_count": 21
        }
      ]
    },
    {
      "cell_type": "code",
      "metadata": {
        "id": "9i8celm2FIN0",
        "colab_type": "code",
        "colab": {}
      },
      "source": [
        "df_test = get_dataframe('/content/drive/My Drive/Malayalam Task 2/malayalam_dev.txt')"
      ],
      "execution_count": 22,
      "outputs": []
    },
    {
      "cell_type": "code",
      "metadata": {
        "id": "D8gS5bhjFKri",
        "colab_type": "code",
        "colab": {}
      },
      "source": [
        "test_text = df_test['text'].tolist()\n",
        "test_text = np.array(test_text, dtype=object)[:, np.newaxis]\n",
        "test_label = np.asarray(pd.get_dummies(df_test.label), dtype = np.int8)"
      ],
      "execution_count": 23,
      "outputs": []
    },
    {
      "cell_type": "code",
      "metadata": {
        "id": "N-xHyOFWFTda",
        "colab_type": "code",
        "colab": {
          "base_uri": "https://localhost:8080/",
          "height": 346
        },
        "outputId": "1109749d-41e4-4791-e291-a6dc952565d7"
      },
      "source": [
        "with tf.Session() as session:\n",
        "  K.set_session(session)\n",
        "  session.run(tf.global_variables_initializer())\n",
        "  session.run(tf.tables_initializer())\n",
        "  history = model.fit(train_text, \n",
        "            train_label,\n",
        "            validation_data=(test_text, test_label),\n",
        "            epochs=5,\n",
        "            batch_size=32)\n",
        "  model.save_weights('./model.h5')"
      ],
      "execution_count": 24,
      "outputs": [
        {
          "output_type": "stream",
          "text": [
            "WARNING:tensorflow:From /usr/local/lib/python3.6/dist-packages/keras/backend/tensorflow_backend.py:422: The name tf.global_variables is deprecated. Please use tf.compat.v1.global_variables instead.\n",
            "\n"
          ],
          "name": "stdout"
        },
        {
          "output_type": "stream",
          "text": [
            "WARNING:tensorflow:From /usr/local/lib/python3.6/dist-packages/keras/backend/tensorflow_backend.py:422: The name tf.global_variables is deprecated. Please use tf.compat.v1.global_variables instead.\n",
            "\n"
          ],
          "name": "stderr"
        },
        {
          "output_type": "stream",
          "text": [
            "WARNING:tensorflow:From /usr/local/lib/python3.6/dist-packages/keras/backend/tensorflow_backend.py:431: The name tf.is_variable_initialized is deprecated. Please use tf.compat.v1.is_variable_initialized instead.\n",
            "\n"
          ],
          "name": "stdout"
        },
        {
          "output_type": "stream",
          "text": [
            "WARNING:tensorflow:From /usr/local/lib/python3.6/dist-packages/keras/backend/tensorflow_backend.py:431: The name tf.is_variable_initialized is deprecated. Please use tf.compat.v1.is_variable_initialized instead.\n",
            "\n"
          ],
          "name": "stderr"
        },
        {
          "output_type": "stream",
          "text": [
            "Train on 1759 samples, validate on 441 samples\n",
            "Epoch 1/5\n",
            "1759/1759 [==============================] - 100s 57ms/step - loss: 1.0367 - accuracy: 0.4764 - val_loss: 1.1601 - val_accuracy: 0.3333\n",
            "Epoch 2/5\n",
            "1759/1759 [==============================] - 96s 55ms/step - loss: 1.0212 - accuracy: 0.4861 - val_loss: 1.1921 - val_accuracy: 0.3333\n",
            "Epoch 3/5\n",
            "1759/1759 [==============================] - 97s 55ms/step - loss: 1.0139 - accuracy: 0.4895 - val_loss: 1.1440 - val_accuracy: 0.3288\n",
            "Epoch 4/5\n",
            "1759/1759 [==============================] - 97s 55ms/step - loss: 1.0012 - accuracy: 0.4895 - val_loss: 1.1504 - val_accuracy: 0.3197\n",
            "Epoch 5/5\n",
            "1759/1759 [==============================] - 96s 55ms/step - loss: 0.9961 - accuracy: 0.4901 - val_loss: 1.1286 - val_accuracy: 0.3175\n"
          ],
          "name": "stdout"
        }
      ]
    },
    {
      "cell_type": "code",
      "metadata": {
        "id": "cOn6zMQxFY5b",
        "colab_type": "code",
        "colab": {
          "base_uri": "https://localhost:8080/",
          "height": 33
        },
        "outputId": "d2060498-900b-4910-c952-14ac5d1753a3"
      },
      "source": [
        "!ls -alh | grep model.h5"
      ],
      "execution_count": 25,
      "outputs": [
        {
          "output_type": "stream",
          "text": [
            "-rw-r--r-- 1 root root 531K Sep 21 14:09 model.h5\n"
          ],
          "name": "stdout"
        }
      ]
    },
    {
      "cell_type": "code",
      "metadata": {
        "id": "aW9mWJi9FbHk",
        "colab_type": "code",
        "colab": {}
      },
      "source": [
        "df_test = get_dataframe('/content/drive/My Drive/Malayalam Task 2/malayalam_test.txt')\n",
        "new_text = df_test['text'].tolist()\n",
        "new_text = np.array(new_text, dtype=object)[:, np.newaxis]\n",
        "with tf.Session() as session:\n",
        "  K.set_session(session)\n",
        "  session.run(tf.global_variables_initializer())\n",
        "  session.run(tf.tables_initializer())\n",
        "  model.load_weights('./model.h5')  \n",
        "  predicts = model.predict(new_text, batch_size=32)\n",
        "  categories = df_train.label.cat.categories.tolist()\n",
        "  predict_logits = predicts.argmax(axis=1)\n",
        "  predict_labels = [categories[logit] for logit in predict_logits]\n",
        "  predict_labels"
      ],
      "execution_count": 26,
      "outputs": []
    },
    {
      "cell_type": "code",
      "metadata": {
        "id": "zJUgO3-VFd5B",
        "colab_type": "code",
        "colab": {}
      },
      "source": [
        "with open('/content/drive/My Drive/Malayalam Task 2/malayalam_test_label_obtained.txt', 'w') as f:\n",
        "    for item in predict_labels:\n",
        "        f.write(\"%s\\n\" % item)"
      ],
      "execution_count": 27,
      "outputs": []
    },
    {
      "cell_type": "code",
      "metadata": {
        "id": "IpkaH0BcFf_z",
        "colab_type": "code",
        "colab": {}
      },
      "source": [
        "with open('/content/drive/My Drive/Malayalam Task 2/malayalam_probability.txt', 'w') as f:\n",
        "    for item in predicts:\n",
        "        f.write(\"%s\\n\" % item)"
      ],
      "execution_count": 28,
      "outputs": []
    },
    {
      "cell_type": "code",
      "metadata": {
        "id": "YrbaquAXFjee",
        "colab_type": "code",
        "colab": {
          "base_uri": "https://localhost:8080/",
          "height": 70
        },
        "outputId": "f75420bc-d7ca-4be7-fa52-66875a43c217"
      },
      "source": [
        "content_array_1 = []\n",
        "content_array_2 = []\n",
        "def file_read(fname,fname1):\n",
        "        with open(fname) as f:\n",
        "                #Content_list is the list that contains the read lines.     \n",
        "                for line in f:\n",
        "                        content_array_1.append(line)\n",
        "                print(content_array_1)\n",
        "        with open(fname1) as f:\n",
        "                #Content_list is the list that contains the read lines.     \n",
        "                for line in f:\n",
        "                        content_array_2.append(line)\n",
        "                print(content_array_2)        \n",
        "\n",
        "file_read('/content/drive/My Drive/Malayalam Task 2/malayalam_test_label_obtained.txt','/content/drive/My Drive/Malayalam Task 2/malayalam_test_labels.txt')"
      ],
      "execution_count": 29,
      "outputs": [
        {
          "output_type": "stream",
          "text": [
            "['P\\n', 'P\\n', 'NP\\n', 'P\\n', 'NP\\n', 'NP\\n', 'NP\\n', 'NP\\n', 'NP\\n', 'NP\\n', 'NP\\n', 'NP\\n', 'NP\\n', 'NP\\n', 'P\\n', 'NP\\n', 'NP\\n', 'NP\\n', 'NP\\n', 'NP\\n', 'NP\\n', 'NP\\n', 'P\\n', 'NP\\n', 'NP\\n', 'NP\\n', 'NP\\n', 'NP\\n', 'NP\\n', 'NP\\n', 'NP\\n', 'NP\\n', 'NP\\n', 'NP\\n', 'NP\\n', 'NP\\n', 'NP\\n', 'NP\\n', 'P\\n', 'NP\\n', 'P\\n', 'NP\\n', 'NP\\n', 'NP\\n', 'NP\\n', 'NP\\n', 'NP\\n', 'NP\\n', 'P\\n', 'NP\\n', 'NP\\n', 'NP\\n', 'P\\n', 'NP\\n', 'NP\\n', 'NP\\n', 'NP\\n', 'NP\\n', 'P\\n', 'NP\\n', 'NP\\n', 'NP\\n', 'NP\\n', 'NP\\n', 'NP\\n', 'NP\\n', 'NP\\n', 'NP\\n', 'NP\\n', 'NP\\n', 'NP\\n', 'NP\\n', 'P\\n', 'NP\\n', 'P\\n', 'NP\\n', 'NP\\n', 'NP\\n', 'NP\\n', 'NP\\n', 'NP\\n', 'NP\\n', 'NP\\n', 'NP\\n', 'NP\\n', 'P\\n', 'NP\\n', 'NP\\n', 'NP\\n', 'NP\\n', 'NP\\n', 'NP\\n', 'NP\\n', 'NP\\n', 'P\\n', 'NP\\n', 'NP\\n', 'NP\\n', 'NP\\n', 'NP\\n', 'P\\n', 'NP\\n', 'P\\n', 'P\\n', 'NP\\n', 'P\\n', 'NP\\n', 'NP\\n', 'NP\\n', 'NP\\n', 'NP\\n', 'NP\\n', 'NP\\n', 'NP\\n', 'NP\\n', 'NP\\n', 'NP\\n', 'P\\n', 'NP\\n', 'NP\\n', 'NP\\n', 'NP\\n', 'NP\\n', 'NP\\n', 'NP\\n', 'NP\\n', 'NP\\n', 'NP\\n', 'NP\\n', 'NP\\n', 'NP\\n', 'NP\\n', 'NP\\n', 'NP\\n', 'P\\n', 'NP\\n', 'NP\\n', 'NP\\n', 'NP\\n', 'NP\\n', 'NP\\n', 'P\\n', 'NP\\n', 'NP\\n', 'NP\\n', 'NP\\n', 'NP\\n', 'NP\\n', 'NP\\n', 'NP\\n', 'NP\\n', 'NP\\n', 'NP\\n', 'NP\\n', 'NP\\n', 'NP\\n', 'P\\n', 'NP\\n', 'P\\n', 'NP\\n', 'NP\\n', 'NP\\n', 'P\\n', 'P\\n', 'NP\\n', 'NP\\n', 'NP\\n', 'NP\\n', 'NP\\n', 'NP\\n', 'NP\\n', 'NP\\n', 'NP\\n', 'NP\\n', 'P\\n', 'NP\\n', 'NP\\n', 'NP\\n', 'NP\\n', 'NP\\n', 'NP\\n', 'NP\\n', 'P\\n', 'NP\\n', 'NP\\n', 'NP\\n', 'NP\\n', 'NP\\n', 'NP\\n', 'NP\\n', 'P\\n', 'NP\\n', 'P\\n', 'NP\\n', 'NP\\n', 'NP\\n', 'NP\\n', 'NP\\n', 'NP\\n', 'NP\\n', 'NP\\n', 'NP\\n', 'NP\\n', 'NP\\n', 'NP\\n', 'P\\n', 'NP\\n', 'NP\\n', 'NP\\n', 'NP\\n', 'NP\\n', 'NP\\n', 'P\\n', 'P\\n', 'NP\\n', 'P\\n', 'NP\\n', 'NP\\n', 'NP\\n', 'NP\\n', 'P\\n', 'NP\\n', 'NP\\n', 'NP\\n', 'P\\n', 'P\\n', 'NP\\n', 'NP\\n', 'NP\\n', 'NP\\n', 'NP\\n', 'NP\\n', 'NP\\n', 'NP\\n', 'NP\\n', 'NP\\n', 'NP\\n', 'NP\\n', 'NP\\n', 'NP\\n', 'NP\\n', 'P\\n', 'NP\\n', 'NP\\n', 'NP\\n', 'NP\\n', 'NP\\n', 'NP\\n', 'P\\n', 'P\\n', 'NP\\n', 'NP\\n', 'NP\\n', 'NP\\n', 'NP\\n', 'NP\\n', 'NP\\n', 'NP\\n', 'NP\\n', 'NP\\n', 'NP\\n', 'NP\\n', 'NP\\n', 'NP\\n', 'NP\\n', 'NP\\n', 'NP\\n', 'P\\n', 'P\\n', 'NP\\n', 'NP\\n', 'P\\n', 'NP\\n', 'NP\\n', 'NP\\n', 'NP\\n', 'NP\\n', 'P\\n', 'NP\\n', 'NP\\n', 'NP\\n', 'P\\n', 'P\\n', 'NP\\n', 'NP\\n', 'NP\\n', 'NP\\n', 'NP\\n', 'NP\\n', 'NP\\n', 'NP\\n', 'NP\\n', 'NP\\n', 'NP\\n', 'NP\\n', 'NP\\n', 'NP\\n', 'NP\\n', 'NP\\n', 'NP\\n', 'P\\n', 'NP\\n', 'NP\\n', 'NP\\n', 'NP\\n', 'NP\\n', 'NP\\n', 'NP\\n', 'NP\\n', 'NP\\n', 'NP\\n', 'NP\\n', 'NP\\n', 'NP\\n', 'NP\\n', 'NP\\n', 'P\\n', 'P\\n', 'P\\n', 'NP\\n', 'NP\\n', 'P\\n', 'NP\\n', 'P\\n', 'NP\\n', 'NP\\n', 'P\\n', 'P\\n', 'NP\\n', 'P\\n', 'NP\\n', 'NP\\n', 'P\\n', 'NP\\n', 'NP\\n', 'NP\\n', 'NP\\n', 'P\\n', 'NP\\n', 'NP\\n', 'NP\\n', 'NP\\n', 'NP\\n', 'NP\\n', 'NP\\n', 'NP\\n', 'NP\\n', 'P\\n', 'NP\\n', 'P\\n', 'P\\n', 'NP\\n', 'NP\\n', 'NP\\n', 'NP\\n', 'NP\\n', 'P\\n', 'NP\\n', 'NP\\n', 'P\\n', 'NP\\n', 'P\\n', 'NP\\n', 'NP\\n', 'NP\\n', 'NP\\n', 'NP\\n', 'NP\\n', 'NP\\n', 'NP\\n', 'NP\\n', 'NP\\n', 'NP\\n', 'NP\\n', 'NP\\n', 'NP\\n', 'NP\\n', 'NP\\n', 'NP\\n', 'NP\\n', 'P\\n', 'NP\\n', 'P\\n', 'P\\n', 'P\\n', 'NP\\n', 'NP\\n', 'NP\\n', 'NP\\n', 'P\\n', 'P\\n', 'NP\\n', 'NP\\n', 'NP\\n', 'NP\\n', 'NP\\n', 'NP\\n', 'NP\\n', 'NP\\n', 'NP\\n', 'NP\\n', 'P\\n', 'NP\\n', 'P\\n', 'NP\\n', 'P\\n', 'NP\\n', 'NP\\n', 'NP\\n', 'NP\\n', 'NP\\n', 'NP\\n', 'NP\\n', 'NP\\n', 'NP\\n', 'NP\\n', 'NP\\n', 'NP\\n', 'NP\\n', 'NP\\n', 'NP\\n', 'NP\\n', 'P\\n', 'NP\\n', 'NP\\n', 'NP\\n', 'NP\\n', 'NP\\n', 'NP\\n', 'NP\\n', 'NP\\n', 'NP\\n', 'P\\n', 'NP\\n', 'NP\\n', 'NP\\n', 'P\\n', 'NP\\n', 'P\\n', 'NP\\n', 'NP\\n', 'NP\\n', 'NP\\n', 'NP\\n', 'NP\\n', 'NP\\n', 'NP\\n', 'NP\\n', 'NP\\n', 'NP\\n', 'NP\\n', 'NP\\n', 'NP\\n', 'P\\n', 'P\\n', 'NP\\n', 'NP\\n', 'NP\\n', 'NP\\n', 'NP\\n', 'NP\\n', 'P\\n', 'NP\\n', 'NP\\n', 'NP\\n', 'NP\\n', 'NP\\n', 'NP\\n', 'NP\\n', 'NP\\n', 'P\\n', 'NP\\n', 'NP\\n', 'NP\\n', 'P\\n', 'NP\\n', 'NP\\n', 'NP\\n', 'NP\\n', 'NP\\n', 'NP\\n', 'NP\\n', 'NP\\n', 'NP\\n', 'NP\\n', 'NP\\n', 'NP\\n', 'NP\\n', 'NP\\n', 'NP\\n', 'NP\\n', 'NP\\n', 'NP\\n', 'NP\\n', 'NP\\n', 'NP\\n', 'NP\\n', 'NP\\n', 'NP\\n', 'NP\\n', 'NP\\n', 'NP\\n', 'NP\\n', 'NP\\n', 'NP\\n', 'P\\n', 'NP\\n', 'NP\\n', 'NP\\n', 'NP\\n', 'P\\n', 'NP\\n', 'NP\\n', 'NP\\n', 'P\\n', 'NP\\n', 'NP\\n', 'NP\\n', 'NP\\n', 'NP\\n', 'P\\n', 'NP\\n', 'P\\n', 'NP\\n', 'P\\n', 'NP\\n', 'NP\\n', 'NP\\n', 'NP\\n', 'NP\\n', 'NP\\n', 'NP\\n', 'NP\\n', 'P\\n', 'NP\\n', 'NP\\n', 'P\\n', 'NP\\n', 'NP\\n', 'NP\\n', 'NP\\n', 'P\\n', 'NP\\n', 'NP\\n', 'NP\\n', 'NP\\n', 'NP\\n', 'NP\\n', 'NP\\n', 'NP\\n', 'P\\n', 'NP\\n', 'NP\\n', 'NP\\n', 'P\\n', 'P\\n', 'NP\\n', 'P\\n', 'NP\\n', 'NP\\n', 'NP\\n', 'NP\\n', 'NP\\n', 'NP\\n', 'P\\n', 'NP\\n', 'NP\\n', 'NP\\n', 'NP\\n', 'NP\\n', 'NP\\n', 'NP\\n', 'NP\\n', 'NP\\n', 'NP\\n', 'NP\\n', 'NP\\n', 'NP\\n', 'P\\n', 'NP\\n', 'NP\\n', 'NP\\n', 'NP\\n', 'NP\\n', 'NP\\n', 'NP\\n', 'NP\\n', 'NP\\n', 'NP\\n', 'NP\\n', 'NP\\n', 'NP\\n', 'NP\\n', 'NP\\n', 'NP\\n', 'NP\\n', 'NP\\n', 'NP\\n', 'NP\\n', 'NP\\n', 'P\\n', 'NP\\n', 'NP\\n', 'P\\n', 'NP\\n', 'NP\\n', 'NP\\n', 'NP\\n', 'NP\\n', 'NP\\n', 'NP\\n', 'NP\\n', 'NP\\n', 'NP\\n', 'NP\\n', 'NP\\n', 'P\\n', 'P\\n', 'NP\\n', 'NP\\n', 'P\\n', 'NP\\n', 'NP\\n', 'NP\\n', 'NP\\n', 'NP\\n', 'NP\\n', 'NP\\n', 'NP\\n', 'NP\\n', 'NP\\n', 'NP\\n', 'NP\\n', 'NP\\n', 'NP\\n', 'NP\\n', 'NP\\n', 'NP\\n', 'NP\\n', 'NP\\n', 'NP\\n', 'NP\\n', 'NP\\n', 'NP\\n', 'NP\\n', 'NP\\n', 'NP\\n', 'NP\\n', 'NP\\n', 'NP\\n', 'NP\\n', 'P\\n', 'NP\\n', 'NP\\n', 'P\\n', 'NP\\n', 'NP\\n', 'NP\\n', 'NP\\n', 'P\\n', 'NP\\n', 'P\\n', 'P\\n', 'P\\n', 'NP\\n', 'P\\n', 'NP\\n', 'P\\n', 'NP\\n', 'NP\\n', 'NP\\n', 'NP\\n', 'NP\\n', 'NP\\n', 'NP\\n', 'NP\\n', 'P\\n', 'NP\\n', 'NP\\n', 'NP\\n', 'NP\\n', 'NP\\n', 'NP\\n', 'NP\\n', 'NP\\n', 'NP\\n', 'NP\\n', 'NP\\n', 'NP\\n', 'NP\\n', 'P\\n', 'NP\\n', 'NP\\n', 'NP\\n', 'NP\\n', 'NP\\n', 'NP\\n', 'P\\n', 'P\\n', 'NP\\n', 'NP\\n', 'NP\\n', 'NP\\n', 'NP\\n', 'P\\n', 'NP\\n', 'NP\\n', 'NP\\n', 'NP\\n', 'NP\\n', 'NP\\n', 'NP\\n', 'NP\\n', 'P\\n', 'NP\\n', 'NP\\n', 'NP\\n', 'NP\\n', 'NP\\n', 'NP\\n', 'NP\\n', 'NP\\n', 'NP\\n', 'NP\\n', 'NP\\n', 'NP\\n', 'NP\\n', 'NP\\n', 'NP\\n', 'P\\n', 'NP\\n', 'NP\\n', 'P\\n', 'NP\\n', 'NP\\n', 'NP\\n', 'NP\\n', 'NP\\n', 'NP\\n', 'NP\\n', 'P\\n', 'NP\\n', 'NP\\n', 'NP\\n', 'NP\\n', 'NP\\n', 'NP\\n', 'NP\\n', 'P\\n', 'P\\n', 'NP\\n', 'P\\n', 'NP\\n', 'P\\n', 'NP\\n', 'P\\n', 'P\\n', 'NP\\n', 'NP\\n', 'P\\n', 'NP\\n', 'NP\\n', 'NP\\n', 'NP\\n', 'NP\\n', 'NP\\n', 'NP\\n', 'NP\\n', 'NP\\n', 'NP\\n', 'NP\\n', 'NP\\n', 'P\\n', 'NP\\n', 'NP\\n', 'NP\\n', 'NP\\n', 'NP\\n', 'NP\\n', 'NP\\n', 'NP\\n', 'NP\\n', 'NP\\n', 'P\\n', 'NP\\n', 'NP\\n', 'NP\\n', 'NP\\n', 'NP\\n', 'NP\\n', 'P\\n', 'NP\\n', 'P\\n', 'NP\\n', 'NP\\n', 'NP\\n', 'NP\\n', 'NP\\n', 'NP\\n', 'NP\\n', 'NP\\n', 'NP\\n', 'NP\\n', 'NP\\n', 'NP\\n', 'NP\\n', 'NP\\n', 'NP\\n', 'NP\\n', 'NP\\n', 'NP\\n', 'NP\\n', 'NP\\n', 'NP\\n', 'NP\\n', 'NP\\n', 'NP\\n', 'NP\\n', 'NP\\n', 'NP\\n', 'NP\\n', 'NP\\n', 'NP\\n', 'NP\\n', 'NP\\n', 'NP\\n', 'NP\\n', 'NP\\n', 'NP\\n', 'NP\\n', 'NP\\n', 'P\\n', 'NP\\n', 'NP\\n', 'NP\\n', 'NP\\n', 'NP\\n', 'NP\\n', 'NP\\n', 'NP\\n', 'NP\\n', 'P\\n', 'NP\\n', 'NP\\n', 'NP\\n', 'NP\\n', 'NP\\n', 'P\\n', 'NP\\n', 'P\\n', 'NP\\n', 'NP\\n', 'NP\\n', 'NP\\n', 'NP\\n', 'NP\\n', 'NP\\n', 'P\\n', 'NP\\n', 'NP\\n', 'NP\\n', 'NP\\n', 'NP\\n', 'NP\\n', 'NP\\n', 'P\\n', 'NP\\n', 'P\\n', 'NP\\n', 'P\\n', 'NP\\n', 'P\\n', 'NP\\n', 'NP\\n', 'NP\\n', 'NP\\n', 'NP\\n', 'NP\\n', 'P\\n', 'NP\\n', 'NP\\n', 'NP\\n', 'NP\\n', 'NP\\n', 'NP\\n', 'P\\n', 'NP\\n', 'NP\\n', 'P\\n', 'NP\\n', 'NP\\n', 'NP\\n', 'NP\\n', 'NP\\n', 'NP\\n', 'NP\\n', 'NP\\n', 'NP\\n', 'NP\\n', 'NP\\n', 'NP\\n', 'NP\\n', 'NP\\n', 'NP\\n', 'NP\\n', 'P\\n', 'NP\\n', 'NP\\n', 'NP\\n', 'NP\\n', 'NP\\n', 'NP\\n', 'NP\\n', 'NP\\n', 'P\\n', 'NP\\n', 'P\\n', 'NP\\n', 'NP\\n', 'NP\\n', 'NP\\n', 'NP\\n', 'P\\n', 'NP\\n', 'NP\\n', 'NP\\n', 'NP\\n', 'P\\n', 'NP\\n', 'NP\\n', 'P\\n', 'P\\n', 'NP\\n', 'NP\\n', 'NP\\n', 'NP\\n', 'NP\\n', 'NP\\n', 'NP\\n', 'NP\\n', 'NP\\n', 'NP\\n', 'NP\\n', 'NP\\n', 'NP\\n', 'NP\\n', 'NP\\n', 'NP\\n', 'NP\\n', 'NP\\n', 'NP\\n', 'NP\\n', 'NP\\n', 'NP\\n', 'NP\\n', 'NP\\n', 'NP\\n', 'NP\\n', 'P\\n', 'NP\\n', 'NP\\n', 'NP\\n', 'NP\\n', 'NP\\n', 'NP\\n', 'NP\\n', 'NP\\n', 'NP\\n', 'NP\\n', 'NP\\n', 'NP\\n', 'NP\\n', 'NP\\n', 'NP\\n', 'NP\\n', 'NP\\n', 'NP\\n', 'NP\\n', 'NP\\n', 'NP\\n', 'NP\\n', 'NP\\n', 'NP\\n', 'P\\n', 'NP\\n', 'NP\\n', 'NP\\n', 'NP\\n', 'P\\n', 'NP\\n', 'NP\\n', 'NP\\n', 'P\\n', 'NP\\n', 'NP\\n', 'P\\n', 'NP\\n', 'P\\n', 'NP\\n', 'NP\\n', 'NP\\n', 'NP\\n', 'NP\\n', 'NP\\n', 'NP\\n', 'NP\\n', 'P\\n', 'NP\\n', 'NP\\n', 'NP\\n', 'P\\n', 'NP\\n', 'NP\\n', 'NP\\n', 'NP\\n', 'NP\\n', 'NP\\n', 'NP\\n', 'NP\\n', 'P\\n', 'NP\\n', 'NP\\n', 'NP\\n', 'P\\n', 'NP\\n', 'NP\\n', 'NP\\n', 'NP\\n', 'NP\\n', 'NP\\n', 'P\\n', 'NP\\n', 'P\\n', 'NP\\n', 'NP\\n', 'NP\\n', 'NP\\n', 'NP\\n', 'NP\\n', 'NP\\n', 'NP\\n', 'NP\\n', 'NP\\n', 'NP\\n', 'NP\\n', 'NP\\n', 'NP\\n', 'NP\\n', 'NP\\n', 'NP\\n', 'NP\\n', 'NP\\n', 'NP\\n', 'NP\\n', 'NP\\n', 'NP\\n', 'P\\n', 'NP\\n', 'P\\n', 'NP\\n', 'P\\n', 'NP\\n', 'NP\\n', 'NP\\n', 'NP\\n', 'NP\\n', 'NP\\n', 'NP\\n', 'NP\\n', 'NP\\n', 'NP\\n', 'NP\\n', 'NP\\n', 'NP\\n', 'NP\\n', 'NP\\n', 'NP\\n', 'NP\\n', 'NP\\n', 'NP\\n', 'NP\\n', 'NP\\n', 'NP\\n', 'NP\\n', 'NP\\n', 'NP\\n', 'P\\n', 'NP\\n', 'NP\\n', 'NP\\n', 'NP\\n', 'P\\n', 'NP\\n', 'NP\\n', 'NP\\n', 'NP\\n', 'NP\\n', 'NP\\n', 'P\\n', 'NP\\n', 'NP\\n', 'NP\\n', 'NP\\n', 'NP\\n', 'NP\\n', 'NP\\n', 'NP\\n', 'NP\\n', 'NP\\n', 'NP\\n', 'NP\\n', 'P\\n', 'NP\\n', 'NP\\n', 'NP\\n', 'NP\\n', 'NP\\n', 'NP\\n', 'NP\\n', 'NP\\n', 'NP\\n', 'NP\\n', 'NP\\n', 'NP\\n', 'NP\\n', 'NP\\n', 'NP\\n', 'P\\n', 'NP\\n', 'NP\\n', 'P\\n', 'NP\\n', 'P\\n', 'NP\\n', 'NP\\n', 'NP\\n', 'NP\\n', 'NP\\n', 'P\\n', 'NP\\n', 'NP\\n', 'NP\\n', 'NP\\n', 'P\\n', 'NP\\n', 'NP\\n', 'P\\n', 'NP\\n', 'NP\\n', 'NP\\n', 'NP\\n', 'P\\n', 'P\\n', 'NP\\n', 'NP\\n', 'NP\\n', 'NP\\n', 'NP\\n', 'NP\\n', 'NP\\n', 'NP\\n', 'NP\\n', 'NP\\n', 'NP\\n', 'NP\\n', 'P\\n', 'NP\\n', 'NP\\n', 'NP\\n', 'NP\\n', 'NP\\n', 'NP\\n', 'P\\n', 'NP\\n', 'NP\\n', 'P\\n', 'P\\n', 'NP\\n', 'NP\\n', 'NP\\n', 'NP\\n', 'NP\\n', 'P\\n', 'NP\\n', 'NP\\n', 'NP\\n', 'P\\n', 'NP\\n', 'P\\n', 'NP\\n', 'NP\\n', 'P\\n', 'NP\\n', 'P\\n', 'NP\\n', 'NP\\n', 'NP\\n', 'NP\\n', 'NP\\n', 'NP\\n', 'P\\n', 'NP\\n', 'P\\n', 'NP\\n', 'NP\\n', 'NP\\n', 'NP\\n', 'NP\\n', 'NP\\n', 'NP\\n', 'NP\\n', 'NP\\n', 'NP\\n', 'NP\\n', 'NP\\n', 'NP\\n', 'NP\\n', 'NP\\n', 'NP\\n', 'NP\\n', 'NP\\n', 'NP\\n', 'NP\\n', 'NP\\n', 'NP\\n', 'NP\\n', 'NP\\n', 'NP\\n', 'NP\\n', 'NP\\n', 'NP\\n', 'P\\n', 'NP\\n', 'NP\\n', 'NP\\n', 'NP\\n', 'NP\\n', 'P\\n', 'NP\\n', 'NP\\n', 'NP\\n', 'NP\\n', 'NP\\n', 'NP\\n', 'NP\\n', 'P\\n', 'NP\\n', 'NP\\n', 'NP\\n', 'NP\\n', 'NP\\n', 'NP\\n', 'NP\\n', 'NP\\n', 'P\\n', 'NP\\n', 'NP\\n', 'NP\\n', 'NP\\n', 'NP\\n', 'NP\\n', 'NP\\n', 'NP\\n', 'NP\\n', 'NP\\n', 'NP\\n', 'NP\\n', 'NP\\n', 'P\\n', 'NP\\n', 'P\\n', 'NP\\n', 'NP\\n', 'NP\\n', 'NP\\n', 'P\\n', 'NP\\n', 'NP\\n', 'P\\n', 'NP\\n', 'NP\\n', 'NP\\n', 'NP\\n', 'P\\n', 'NP\\n', 'NP\\n', 'P\\n', 'NP\\n', 'NP\\n', 'NP\\n', 'NP\\n', 'P\\n', 'NP\\n', 'NP\\n', 'NP\\n', 'P\\n', 'NP\\n', 'P\\n', 'NP\\n', 'NP\\n', 'NP\\n', 'NP\\n', 'P\\n', 'P\\n', 'NP\\n', 'NP\\n', 'P\\n', 'NP\\n', 'NP\\n', 'NP\\n', 'NP\\n', 'NP\\n', 'NP\\n', 'NP\\n', 'NP\\n', 'NP\\n', 'NP\\n', 'P\\n', 'NP\\n', 'P\\n', 'NP\\n', 'NP\\n', 'NP\\n', 'P\\n', 'NP\\n', 'NP\\n', 'NP\\n', 'NP\\n', 'NP\\n', 'NP\\n', 'NP\\n', 'P\\n', 'NP\\n', 'NP\\n', 'NP\\n', 'NP\\n', 'NP\\n', 'NP\\n', 'NP\\n', 'NP\\n', 'NP\\n', 'NP\\n', 'NP\\n', 'NP\\n', 'NP\\n', 'NP\\n', 'NP\\n', 'NP\\n', 'P\\n', 'NP\\n', 'NP\\n', 'P\\n', 'P\\n', 'NP\\n', 'NP\\n', 'NP\\n', 'NP\\n', 'NP\\n', 'P\\n', 'NP\\n', 'P\\n', 'NP\\n', 'NP\\n', 'NP\\n', 'P\\n', 'NP\\n', 'NP\\n', 'NP\\n', 'NP\\n', 'NP\\n', 'P\\n', 'NP\\n', 'NP\\n', 'NP\\n', 'NP\\n', 'NP\\n', 'NP\\n', 'NP\\n', 'NP\\n', 'NP\\n', 'NP\\n', 'P\\n', 'P\\n', 'NP\\n', 'NP\\n', 'NP\\n', 'NP\\n', 'NP\\n', 'NP\\n', 'NP\\n', 'NP\\n', 'NP\\n', 'NP\\n', 'NP\\n', 'NP\\n', 'NP\\n', 'P\\n', 'NP\\n', 'NP\\n', 'NP\\n']\n",
            "['SP\\n', 'NP\\n', 'NP\\n', 'P\\n', 'P\\n', 'SP\\n', 'P\\n', 'NP\\n', 'NP\\n', 'NP\\n', 'NP\\n', 'NP\\n', 'SP\\n', 'SP\\n', 'P\\n', 'P\\n', 'NP\\n', 'NP\\n', 'NP\\n', 'NP\\n', 'P\\n', 'SP\\n', 'SP\\n', 'NP\\n', 'P\\n', 'NP\\n', 'NP\\n', 'NP\\n', 'NP\\n', 'NP\\n', 'NP\\n', 'SP\\n', 'SP\\n', 'P\\n', 'NP\\n', 'NP\\n', 'SP\\n', 'NP\\n', 'P\\n', 'P\\n', 'SP\\n', 'NP\\n', 'NP\\n', 'NP\\n', 'NP\\n', 'NP\\n', 'NP\\n', 'SP\\n', 'NP\\n', 'SP\\n', 'P\\n', 'P\\n', 'P\\n', 'P\\n', 'P\\n', 'NP\\n', 'NP\\n', 'NP\\n', 'SP\\n', 'SP\\n', 'NP\\n', 'NP\\n', 'NP\\n', 'SP\\n', 'P\\n', 'P\\n', 'NP\\n', 'SP\\n', 'NP\\n', 'SP\\n', 'P\\n', 'NP\\n', 'NP\\n', 'P\\n', 'SP\\n', 'P\\n', 'NP\\n', 'SP\\n', 'NP\\n', 'NP\\n', 'NP\\n', 'NP\\n', 'P\\n', 'NP\\n', 'P\\n', 'SP\\n', 'NP\\n', 'P\\n', 'P\\n', 'SP\\n', 'NP\\n', 'P\\n', 'NP\\n', 'NP\\n', 'NP\\n', 'NP\\n', 'NP\\n', 'NP\\n', 'NP\\n', 'NP\\n', 'NP\\n', 'NP\\n', 'NP\\n', 'SP\\n', 'NP\\n', 'P\\n', 'P\\n', 'P\\n', 'SP\\n', 'P\\n', 'P\\n', 'SP\\n', 'NP\\n', 'SP\\n', 'NP\\n', 'SP\\n', 'P\\n', 'SP\\n', 'SP\\n', 'P\\n', 'NP\\n', 'NP\\n', 'SP\\n', 'NP\\n', 'SP\\n', 'SP\\n', 'NP\\n', 'P\\n', 'NP\\n', 'SP\\n', 'NP\\n', 'SP\\n', 'NP\\n', 'NP\\n', 'P\\n', 'NP\\n', 'NP\\n', 'NP\\n', 'NP\\n', 'NP\\n', 'P\\n', 'NP\\n', 'SP\\n', 'SP\\n', 'P\\n', 'NP\\n', 'NP\\n', 'P\\n', 'SP\\n', 'P\\n', 'NP\\n', 'NP\\n', 'NP\\n', 'NP\\n', 'P\\n', 'SP\\n', 'NP\\n', 'SP\\n', 'SP\\n', 'NP\\n', 'P\\n', 'SP\\n', 'NP\\n', 'P\\n', 'NP\\n', 'NP\\n', 'P\\n', 'P\\n', 'NP\\n', 'P\\n', 'P\\n', 'P\\n', 'NP\\n', 'SP\\n', 'P\\n', 'P\\n', 'P\\n', 'SP\\n', 'NP\\n', 'SP\\n', 'NP\\n', 'NP\\n', 'P\\n', 'NP\\n', 'NP\\n', 'SP\\n', 'P\\n', 'SP\\n', 'NP\\n', 'P\\n', 'SP\\n', 'SP\\n', 'SP\\n', 'NP\\n', 'P\\n', 'P\\n', 'NP\\n', 'SP\\n', 'NP\\n', 'NP\\n', 'NP\\n', 'P\\n', 'P\\n', 'P\\n', 'NP\\n', 'NP\\n', 'P\\n', 'NP\\n', 'SP\\n', 'NP\\n', 'P\\n', 'SP\\n', 'SP\\n', 'P\\n', 'NP\\n', 'SP\\n', 'NP\\n', 'P\\n', 'NP\\n', 'SP\\n', 'SP\\n', 'NP\\n', 'NP\\n', 'P\\n', 'P\\n', 'P\\n', 'NP\\n', 'SP\\n', 'SP\\n', 'SP\\n', 'SP\\n', 'NP\\n', 'SP\\n', 'SP\\n', 'P\\n', 'SP\\n', 'NP\\n', 'SP\\n', 'NP\\n', 'NP\\n', 'SP\\n', 'P\\n', 'P\\n', 'SP\\n', 'P\\n', 'NP\\n', 'SP\\n', 'SP\\n', 'NP\\n', 'SP\\n', 'NP\\n', 'NP\\n', 'SP\\n', 'SP\\n', 'SP\\n', 'SP\\n', 'SP\\n', 'P\\n', 'P\\n', 'SP\\n', 'SP\\n', 'P\\n', 'SP\\n', 'P\\n', 'SP\\n', 'P\\n', 'P\\n', 'SP\\n', 'P\\n', 'NP\\n', 'SP\\n', 'SP\\n', 'SP\\n', 'SP\\n', 'P\\n', 'P\\n', 'NP\\n', 'SP\\n', 'NP\\n', 'P\\n', 'NP\\n', 'P\\n', 'P\\n', 'P\\n', 'P\\n', 'P\\n', 'P\\n', 'NP\\n', 'NP\\n', 'NP\\n', 'NP\\n', 'P\\n', 'P\\n', 'SP\\n', 'SP\\n', 'NP\\n', 'P\\n', 'SP\\n', 'SP\\n', 'SP\\n', 'NP\\n', 'SP\\n', 'SP\\n', 'P\\n', 'NP\\n', 'NP\\n', 'NP\\n', 'NP\\n', 'SP\\n', 'SP\\n', 'NP\\n', 'SP\\n', 'NP\\n', 'NP\\n', 'NP\\n', 'SP\\n', 'SP\\n', 'SP\\n', 'SP\\n', 'NP\\n', 'SP\\n', 'SP\\n', 'NP\\n', 'SP\\n', 'P\\n', 'SP\\n', 'P\\n', 'P\\n', 'SP\\n', 'P\\n', 'P\\n', 'SP\\n', 'SP\\n', 'SP\\n', 'P\\n', 'SP\\n', 'SP\\n', 'NP\\n', 'SP\\n', 'SP\\n', 'NP\\n', 'SP\\n', 'SP\\n', 'P\\n', 'SP\\n', 'SP\\n', 'NP\\n', 'SP\\n', 'SP\\n', 'SP\\n', 'NP\\n', 'SP\\n', 'SP\\n', 'SP\\n', 'NP\\n', 'SP\\n', 'SP\\n', 'SP\\n', 'SP\\n', 'SP\\n', 'SP\\n', 'SP\\n', 'SP\\n', 'SP\\n', 'SP\\n', 'P\\n', 'NP\\n', 'NP\\n', 'NP\\n', 'SP\\n', 'NP\\n', 'SP\\n', 'P\\n', 'NP\\n', 'NP\\n', 'NP\\n', 'SP\\n', 'P\\n', 'P\\n', 'SP\\n', 'NP\\n', 'NP\\n', 'NP\\n', 'SP\\n', 'P\\n', 'SP\\n', 'P\\n', 'NP\\n', 'SP\\n', 'SP\\n', 'P\\n', 'P\\n', 'P\\n', 'NP\\n', 'P\\n', 'NP\\n', 'NP\\n', 'SP\\n', 'NP\\n', 'SP\\n', 'SP\\n', 'NP\\n', 'P\\n', 'P\\n', 'NP\\n', 'SP\\n', 'SP\\n', 'NP\\n', 'SP\\n', 'NP\\n', 'P\\n', 'NP\\n', 'SP\\n', 'SP\\n', 'SP\\n', 'SP\\n', 'NP\\n', 'SP\\n', 'NP\\n', 'NP\\n', 'SP\\n', 'P\\n', 'NP\\n', 'NP\\n', 'NP\\n', 'NP\\n', 'SP\\n', 'SP\\n', 'SP\\n', 'NP\\n', 'NP\\n', 'SP\\n', 'SP\\n', 'SP\\n', 'NP\\n', 'NP\\n', 'SP\\n', 'P\\n', 'P\\n', 'P\\n', 'P\\n', 'P\\n', 'SP\\n', 'P\\n', 'SP\\n', 'P\\n', 'P\\n', 'SP\\n', 'NP\\n', 'NP\\n', 'P\\n', 'SP\\n', 'P\\n', 'SP\\n', 'SP\\n', 'SP\\n', 'NP\\n', 'NP\\n', 'SP\\n', 'NP\\n', 'P\\n', 'SP\\n', 'NP\\n', 'SP\\n', 'SP\\n', 'SP\\n', 'NP\\n', 'SP\\n', 'P\\n', 'SP\\n', 'P\\n', 'NP\\n', 'NP\\n', 'P\\n', 'NP\\n', 'SP\\n', 'SP\\n', 'SP\\n', 'P\\n', 'SP\\n', 'NP\\n', 'SP\\n', 'SP\\n', 'NP\\n', 'P\\n', 'NP\\n', 'NP\\n', 'NP\\n', 'P\\n', 'SP\\n', 'NP\\n', 'NP\\n', 'P\\n', 'NP\\n', 'P\\n', 'SP\\n', 'SP\\n', 'NP\\n', 'SP\\n', 'SP\\n', 'SP\\n', 'SP\\n', 'P\\n', 'P\\n', 'P\\n', 'P\\n', 'SP\\n', 'SP\\n', 'SP\\n', 'SP\\n', 'SP\\n', 'SP\\n', 'SP\\n', 'SP\\n', 'SP\\n', 'SP\\n', 'SP\\n', 'SP\\n', 'NP\\n', 'SP\\n', 'SP\\n', 'P\\n', 'SP\\n', 'SP\\n', 'SP\\n', 'P\\n', 'NP\\n', 'NP\\n', 'NP\\n', 'NP\\n', 'P\\n', 'NP\\n', 'P\\n', 'P\\n', 'NP\\n', 'P\\n', 'P\\n', 'NP\\n', 'P\\n', 'P\\n', 'P\\n', 'P\\n', 'P\\n', 'P\\n', 'P\\n', 'P\\n', 'P\\n', 'P\\n', 'P\\n', 'P\\n', 'SP\\n', 'P\\n', 'NP\\n', 'SP\\n', 'P\\n', 'P\\n', 'NP\\n', 'P\\n', 'SP\\n', 'SP\\n', 'P\\n', 'SP\\n', 'SP\\n', 'SP\\n', 'P\\n', 'NP\\n', 'NP\\n', 'P\\n', 'SP\\n', 'NP\\n', 'P\\n', 'NP\\n', 'NP\\n', 'P\\n', 'P\\n', 'SP\\n', 'SP\\n', 'SP\\n', 'NP\\n', 'SP\\n', 'NP\\n', 'NP\\n', 'P\\n', 'SP\\n', 'NP\\n', 'SP\\n', 'SP\\n', 'P\\n', 'NP\\n', 'SP\\n', 'NP\\n', 'P\\n', 'P\\n', 'P\\n', 'P\\n', 'SP\\n', 'P\\n', 'NP\\n', 'P\\n', 'SP\\n', 'SP\\n', 'SP\\n', 'P\\n', 'P\\n', 'NP\\n', 'NP\\n', 'P\\n', 'P\\n', 'P\\n', 'NP\\n', 'P\\n', 'SP\\n', 'P\\n', 'NP\\n', 'P\\n', 'NP\\n', 'NP\\n', 'SP\\n', 'NP\\n', 'P\\n', 'SP\\n', 'P\\n', 'NP\\n', 'SP\\n', 'SP\\n', 'NP\\n', 'NP\\n', 'SP\\n', 'NP\\n', 'P\\n', 'NP\\n', 'NP\\n', 'P\\n', 'NP\\n', 'P\\n', 'P\\n', 'NP\\n', 'SP\\n', 'SP\\n', 'NP\\n', 'NP\\n', 'P\\n', 'P\\n', 'NP\\n', 'NP\\n', 'P\\n', 'NP\\n', 'P\\n', 'NP\\n', 'P\\n', 'NP\\n', 'NP\\n', 'NP\\n', 'NP\\n', 'SP\\n', 'P\\n', 'P\\n', 'P\\n', 'SP\\n', 'SP\\n', 'SP\\n', 'P\\n', 'NP\\n', 'SP\\n', 'P\\n', 'NP\\n', 'NP\\n', 'P\\n', 'P\\n', 'SP\\n', 'SP\\n', 'SP\\n', 'SP\\n', 'SP\\n', 'SP\\n', 'SP\\n', 'SP\\n', 'SP\\n', 'SP\\n', 'P\\n', 'P\\n', 'P\\n', 'SP\\n', 'NP\\n', 'P\\n', 'NP\\n', 'NP\\n', 'NP\\n', 'P\\n', 'NP\\n', 'NP\\n', 'NP\\n', 'SP\\n', 'P\\n', 'P\\n', 'SP\\n', 'SP\\n', 'SP\\n', 'SP\\n', 'NP\\n', 'P\\n', 'P\\n', 'P\\n', 'SP\\n', 'P\\n', 'NP\\n', 'NP\\n', 'SP\\n', 'SP\\n', 'NP\\n', 'SP\\n', 'SP\\n', 'SP\\n', 'NP\\n', 'NP\\n', 'P\\n', 'P\\n', 'NP\\n', 'NP\\n', 'NP\\n', 'P\\n', 'NP\\n', 'P\\n', 'SP\\n', 'NP\\n', 'P\\n', 'P\\n', 'SP\\n', 'SP\\n', 'SP\\n', 'NP\\n', 'SP\\n', 'P\\n', 'P\\n', 'NP\\n', 'P\\n', 'SP\\n', 'NP\\n', 'P\\n', 'NP\\n', 'NP\\n', 'SP\\n', 'SP\\n', 'P\\n', 'NP\\n', 'NP\\n', 'SP\\n', 'NP\\n', 'SP\\n', 'SP\\n', 'SP\\n', 'SP\\n', 'NP\\n', 'P\\n', 'NP\\n', 'NP\\n', 'SP\\n', 'SP\\n', 'NP\\n', 'SP\\n', 'SP\\n', 'NP\\n', 'NP\\n', 'NP\\n', 'SP\\n', 'SP\\n', 'NP\\n', 'P\\n', 'P\\n', 'SP\\n', 'SP\\n', 'SP\\n', 'P\\n', 'SP\\n', 'SP\\n', 'P\\n', 'SP\\n', 'P\\n', 'P\\n', 'NP\\n', 'SP\\n', 'SP\\n', 'P\\n', 'SP\\n', 'SP\\n', 'NP\\n', 'SP\\n', 'P\\n', 'SP\\n', 'P\\n', 'P\\n', 'P\\n', 'NP\\n', 'SP\\n', 'P\\n', 'SP\\n', 'NP\\n', 'SP\\n', 'NP\\n', 'NP\\n', 'NP\\n', 'P\\n', 'SP\\n', 'SP\\n', 'P\\n', 'SP\\n', 'NP\\n', 'P\\n', 'NP\\n', 'P\\n', 'NP\\n', 'P\\n', 'SP\\n', 'SP\\n', 'SP\\n', 'SP\\n', 'SP\\n', 'SP\\n', 'SP\\n', 'P\\n', 'NP\\n', 'NP\\n', 'SP\\n', 'P\\n', 'NP\\n', 'SP\\n', 'SP\\n', 'P\\n', 'NP\\n', 'NP\\n', 'P\\n', 'P\\n', 'SP\\n', 'SP\\n', 'NP\\n', 'NP\\n', 'NP\\n', 'NP\\n', 'NP\\n', 'NP\\n', 'NP\\n', 'NP\\n', 'NP\\n', 'SP\\n', 'P\\n', 'P\\n', 'P\\n', 'NP\\n', 'P\\n', 'NP\\n', 'P\\n', 'NP\\n', 'P\\n', 'SP\\n', 'SP\\n', 'P\\n', 'NP\\n', 'P\\n', 'P\\n', 'SP\\n', 'SP\\n', 'P\\n', 'P\\n', 'NP\\n', 'NP\\n', 'P\\n', 'P\\n', 'NP\\n', 'SP\\n', 'NP\\n', 'NP\\n', 'P\\n', 'NP\\n', 'NP\\n', 'SP\\n', 'NP\\n', 'NP\\n', 'NP\\n', 'SP\\n', 'NP\\n', 'NP\\n', 'NP\\n', 'NP\\n', 'SP\\n', 'SP\\n', 'SP\\n', 'P\\n', 'SP\\n', 'SP\\n', 'SP\\n', 'SP\\n', 'SP\\n', 'SP\\n', 'P\\n', 'SP\\n', 'P\\n', 'SP\\n', 'P\\n', 'NP\\n', 'NP\\n', 'SP\\n', 'NP\\n', 'SP\\n', 'NP\\n', 'SP\\n', 'SP\\n', 'SP\\n', 'NP\\n', 'P\\n', 'P\\n', 'NP\\n', 'NP\\n', 'P\\n', 'P\\n', 'NP\\n', 'NP\\n', 'NP\\n', 'NP\\n', 'P\\n', 'NP\\n', 'P\\n', 'NP\\n', 'P\\n', 'SP\\n', 'P\\n', 'SP\\n', 'P\\n', 'SP\\n', 'NP\\n', 'P\\n', 'P\\n', 'NP\\n', 'SP\\n', 'SP\\n', 'SP\\n', 'P\\n', 'P\\n', 'P\\n', 'SP\\n', 'NP\\n', 'NP\\n', 'NP\\n', 'SP\\n', 'P\\n', 'NP\\n', 'NP\\n', 'NP\\n', 'SP\\n', 'P\\n', 'SP\\n', 'NP\\n', 'NP\\n', 'P\\n', 'P\\n', 'SP\\n', 'NP\\n', 'P\\n', 'NP\\n', 'P\\n', 'NP\\n', 'NP\\n', 'NP\\n', 'SP\\n', 'SP\\n', 'SP\\n', 'P\\n', 'NP\\n', 'NP\\n', 'SP\\n', 'SP\\n', 'SP\\n', 'SP\\n', 'NP\\n', 'P\\n', 'NP\\n', 'P\\n', 'SP\\n', 'SP\\n', 'NP\\n', 'SP\\n', 'SP\\n', 'SP\\n', 'P\\n', 'SP\\n', 'SP\\n', 'P\\n', 'NP\\n', 'P\\n', 'P\\n', 'P\\n', 'SP\\n', 'SP\\n', 'NP\\n', 'SP\\n', 'NP\\n', 'SP\\n', 'NP\\n', 'SP\\n', 'SP\\n', 'P\\n', 'NP\\n', 'SP\\n', 'NP\\n', 'SP\\n', 'P\\n', 'NP\\n', 'SP\\n', 'SP\\n', 'SP\\n', 'SP\\n', 'SP\\n', 'SP\\n', 'NP\\n', 'P\\n', 'NP\\n', 'P\\n', 'NP\\n', 'NP\\n', 'SP\\n', 'P\\n', 'SP\\n', 'P\\n', 'NP\\n', 'SP\\n', 'SP\\n', 'SP\\n', 'NP\\n', 'P\\n', 'SP\\n', 'SP\\n', 'NP\\n', 'NP\\n', 'NP\\n', 'SP\\n', 'SP\\n', 'SP\\n', 'P\\n', 'NP\\n', 'NP\\n', 'P\\n', 'SP\\n', 'NP\\n', 'NP\\n', 'NP\\n', 'NP\\n', 'P\\n', 'NP\\n', 'SP\\n', 'NP\\n', 'SP\\n', 'NP\\n', 'SP\\n', 'SP\\n', 'SP\\n', 'P\\n', 'SP\\n', 'NP\\n', 'SP\\n', 'NP\\n', 'P\\n', 'NP\\n', 'SP\\n', 'SP\\n', 'P\\n', 'SP\\n', 'P\\n', 'SP\\n', 'SP\\n', 'P\\n', 'SP\\n', 'NP\\n', 'SP\\n', 'SP\\n', 'SP\\n', 'NP\\n', 'NP\\n', 'NP\\n', 'SP\\n', 'P\\n', 'SP\\n', 'SP\\n', 'SP\\n', 'P\\n', 'P\\n', 'P\\n', 'SP\\n', 'P\\n', 'SP\\n', 'NP\\n', 'SP\\n', 'NP\\n', 'NP\\n', 'SP\\n', 'NP\\n', 'NP\\n', 'NP\\n', 'P\\n', 'P\\n', 'P\\n', 'NP\\n', 'NP\\n', 'NP\\n', 'SP\\n', 'SP\\n', 'SP\\n', 'P\\n', 'P\\n', 'P\\n', 'P\\n', 'NP\\n', 'P\\n', 'NP\\n', 'SP\\n', 'P\\n', 'SP\\n', 'NP\\n', 'SP\\n', 'P\\n', 'P\\n', 'P\\n', 'NP\\n', 'P\\n', 'NP\\n', 'NP\\n', 'NP\\n', 'NP\\n', 'NP\\n', 'NP\\n', 'P\\n', 'P\\n', 'P\\n', 'NP\\n', 'P\\n', 'SP\\n', 'SP\\n', 'SP\\n', 'P\\n', 'NP\\n', 'NP\\n', 'NP\\n', 'P\\n', 'SP\\n', 'NP\\n', 'SP\\n', 'P\\n', 'NP\\n', 'P\\n', 'SP\\n', 'P\\n', 'SP\\n', 'NP\\n', 'P\\n', 'NP\\n', 'NP\\n', 'P\\n', 'P\\n', 'SP\\n', 'NP\\n', 'SP\\n', 'NP\\n', 'P\\n', 'NP\\n', 'NP\\n', 'NP\\n', 'NP\\n', 'SP\\n', 'NP\\n', 'NP\\n', 'NP\\n', 'NP\\n', 'SP\\n', 'SP\\n', 'P\\n', 'NP\\n', 'SP\\n', 'P\\n', 'P\\n', 'NP\\n', 'SP\\n', 'NP\\n', 'NP\\n', 'SP\\n', 'SP\\n', 'NP\\n', 'NP\\n', 'SP\\n', 'SP\\n', 'NP\\n', 'NP\\n', 'P\\n', 'P\\n', 'SP\\n', 'SP\\n', 'P\\n', 'SP\\n', 'SP\\n', 'P\\n', 'NP\\n', 'NP\\n', 'NP\\n', 'SP\\n', 'SP\\n', 'SP\\n', 'SP\\n', 'SP\\n', 'SP\\n', 'NP\\n', 'SP\\n', 'NP\\n', 'P\\n', 'P\\n', 'SP\\n', 'P\\n', 'NP\\n', 'NP\\n', 'NP\\n', 'SP\\n', 'NP\\n', 'SP\\n', 'NP\\n', 'SP\\n', 'NP\\n', 'SP\\n', 'NP\\n', 'SP\\n', 'NP\\n', 'NP\\n', 'NP\\n', 'P\\n', 'P\\n', 'P\\n', 'NP\\n', 'P\\n', 'SP\\n', 'NP\\n', 'NP\\n', 'SP\\n', 'P\\n', 'NP\\n', 'P\\n', 'NP\\n', 'NP\\n', 'SP\\n', 'NP\\n', 'SP\\n', 'NP\\n', 'NP\\n', 'SP\\n', 'P\\n', 'SP\\n', 'NP\\n', 'SP\\n', 'NP\\n', 'P\\n', 'SP\\n', 'SP\\n', 'NP\\n', 'SP\\n', 'P\\n', 'P\\n', 'SP\\n', 'SP\\n', 'P\\n', 'P\\n', 'P\\n', 'SP\\n', 'P\\n', 'P\\n', 'SP\\n', 'P\\n', 'P\\n', 'SP\\n', 'SP\\n', 'NP\\n', 'NP\\n', 'SP\\n', 'NP\\n', 'P\\n', 'SP\\n', 'SP\\n', 'NP\\n', 'P\\n', 'P\\n', 'P\\n', 'NP\\n', 'SP\\n', 'NP\\n', 'SP\\n', 'NP\\n', 'SP\\n', 'NP\\n', 'NP\\n', 'SP\\n', 'SP\\n', 'SP\\n', 'SP\\n', 'NP\\n', 'P\\n', 'NP\\n', 'SP\\n', 'P\\n', 'SP\\n', 'SP\\n', 'P\\n', 'NP\\n', 'SP\\n', 'SP\\n', 'P\\n', 'NP\\n', 'NP\\n', 'P\\n', 'NP\\n', 'NP\\n', 'NP\\n', 'P\\n', 'P\\n', 'SP\\n', 'SP\\n', 'P\\n', 'P\\n', 'SP\\n', 'P\\n', 'P\\n', 'SP\\n', 'P\\n', 'NP\\n', 'NP\\n', 'SP\\n', 'SP\\n', 'P\\n', 'SP\\n', 'SP\\n', 'SP\\n', 'SP\\n', 'NP\\n', 'NP\\n', 'P\\n', 'SP\\n', 'SP\\n', 'SP\\n', 'P\\n', 'NP\\n', 'P\\n', 'P\\n', 'P\\n', 'P\\n', 'P\\n', 'P\\n', 'NP\\n', 'NP\\n', 'SP\\n', 'SP\\n', 'SP\\n', 'NP\\n', 'P\\n', 'NP\\n', 'P\\n', 'NP\\n', 'P\\n', 'NP\\n', 'NP\\n', 'P\\n', 'NP\\n', 'NP\\n', 'P\\n', 'P\\n', 'NP\\n', 'P\\n', 'P\\n', 'SP\\n', 'SP\\n', 'NP\\n', 'NP\\n', 'NP\\n', 'NP\\n', 'P\\n', 'SP\\n', 'NP\\n', 'P\\n', 'SP\\n', 'P\\n', 'NP\\n', 'SP\\n', 'SP\\n', 'NP\\n', 'SP\\n', 'P\\n', 'SP\\n', 'P\\n', 'NP\\n', 'NP\\n', 'P\\n', 'NP\\n', 'SP\\n', 'NP\\n', 'NP\\n', 'P\\n', 'P\\n', 'SP\\n', 'NP\\n']\n"
          ],
          "name": "stdout"
        }
      ]
    },
    {
      "cell_type": "code",
      "metadata": {
        "id": "Hf4wZLTdFlxz",
        "colab_type": "code",
        "colab": {
          "base_uri": "https://localhost:8080/",
          "height": 33
        },
        "outputId": "37313ac5-b49b-497e-cbac-10c9445e0cba"
      },
      "source": [
        "from sklearn.metrics import accuracy_score\n",
        "y_pred = content_array_1\n",
        "y_true = content_array_2\n",
        "accuracy_score(y_true, y_pred)\n",
        "accuracy_score(y_true, y_pred, normalize=True)"
      ],
      "execution_count": 30,
      "outputs": [
        {
          "output_type": "execute_result",
          "data": {
            "text/plain": [
              "0.3657142857142857"
            ]
          },
          "metadata": {
            "tags": []
          },
          "execution_count": 30
        }
      ]
    },
    {
      "cell_type": "code",
      "metadata": {
        "id": "UXtf4X2HFnaZ",
        "colab_type": "code",
        "colab": {
          "base_uri": "https://localhost:8080/",
          "height": 86
        },
        "outputId": "28987b7c-21b3-4043-e947-879e77faa6b8"
      },
      "source": [
        "from sklearn.metrics import precision_score\n",
        "y_true = content_array_2\n",
        "y_pred = content_array_1\n",
        "precision_score(y_true, y_pred, average='weighted')"
      ],
      "execution_count": 31,
      "outputs": [
        {
          "output_type": "stream",
          "text": [
            "/usr/local/lib/python3.6/dist-packages/sklearn/metrics/_classification.py:1272: UndefinedMetricWarning: Precision is ill-defined and being set to 0.0 in labels with no predicted samples. Use `zero_division` parameter to control this behavior.\n",
            "  _warn_prf(average, modifier, msg_start, len(result))\n"
          ],
          "name": "stderr"
        },
        {
          "output_type": "execute_result",
          "data": {
            "text/plain": [
              "0.2241810000420539"
            ]
          },
          "metadata": {
            "tags": []
          },
          "execution_count": 31
        }
      ]
    },
    {
      "cell_type": "code",
      "metadata": {
        "id": "nch-j7dXFu_r",
        "colab_type": "code",
        "colab": {
          "base_uri": "https://localhost:8080/",
          "height": 33
        },
        "outputId": "6214f1a5-10a0-4c43-d956-a4cc023aae66"
      },
      "source": [
        "from sklearn.metrics import f1_score\n",
        "y_true = content_array_2\n",
        "y_pred = content_array_1\n",
        "f1_score(y_true, y_pred, average='weighted')"
      ],
      "execution_count": 32,
      "outputs": [
        {
          "output_type": "execute_result",
          "data": {
            "text/plain": [
              "0.25139769159455055"
            ]
          },
          "metadata": {
            "tags": []
          },
          "execution_count": 32
        }
      ]
    }
  ]
}