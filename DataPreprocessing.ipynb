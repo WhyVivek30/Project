{
  "nbformat": 4,
  "nbformat_minor": 0,
  "metadata": {
    "colab": {
      "name": "DataPreprocessing.ipynb",
      "provenance": [],
      "collapsed_sections": [],
      "mount_file_id": "18HEJM5mspr9MtNqC8TNbmWx1SKGbtONG",
      "authorship_tag": "ABX9TyP10yFoGlvdd+3KtKE8NrhP",
      "include_colab_link": true
    },
    "kernelspec": {
      "name": "python3",
      "display_name": "Python 3"
    }
  },
  "cells": [
    {
      "cell_type": "markdown",
      "metadata": {
        "id": "view-in-github",
        "colab_type": "text"
      },
      "source": [
        "<a href=\"https://colab.research.google.com/github/WhyVivek30/Project/blob/master/DataPreprocessing.ipynb\" target=\"_parent\"><img src=\"https://colab.research.google.com/assets/colab-badge.svg\" alt=\"Open In Colab\"/></a>"
      ]
    },
    {
      "cell_type": "markdown",
      "metadata": {
        "id": "9xmi_3BCsBvO",
        "colab_type": "text"
      },
      "source": [
        "**Code for train Data extraction from train xml file.**"
      ]
    },
    {
      "cell_type": "code",
      "metadata": {
        "colab_type": "code",
        "id": "57StiPxSO6O7",
        "colab": {}
      },
      "source": [
        "import xml.dom.minidom\n",
        "import codecs\n",
        "\n",
        "def main():\n",
        "\n",
        "\tout= codecs.open('/content/drive/My Drive/Hindi Task 1/hindi_train1.txt','w',encoding=\"utf-8\")\n",
        "\n",
        "\t# f=open(\"samplefile.txt\",\"a\", encoding=\"utf-8\")\n",
        "\tdoc=xml.dom.minidom.parse(\"/content/drive/My Drive/Train XML File/HindiTask1.xml\")\n",
        "\tparaphrases=doc.getElementsByTagName(\"Paraphrase\")\n",
        "\tfor i in paraphrases:\n",
        "\t\t#pID=i.getAttribute(\"pID\")\n",
        "\t\tsentence1=i.getElementsByTagName(\"Sentence1\")\n",
        "\t\tsentence2=i.getElementsByTagName(\"Sentence2\")\n",
        "\t\t_class=i.getElementsByTagName(\"Class\")\n",
        "\t\t#out.write(pID+\"\\t\")\n",
        "\t\tfor x in _class:\n",
        "\t\t#\tprint x.firstChild.nodeValue\n",
        "\t\t\tout.write(x.firstChild.nodeValue+\": \")\n",
        "\n",
        "\t\tfor x in sentence1:\n",
        "\t\t#\tprint x.firstChild.nodeValue\n",
        "\t\t\tout.write(x.firstChild.nodeValue.replace(\"\\n\",\"\"))\n",
        "\t\t\t#print(x.firstChild.nodeValue.replace(\"\\n\",\"\\t\").length)\n",
        "\t\tfor x in sentence2:\n",
        "\t\t#\tprint x.firstChild.nodeValue\n",
        "\t\t\tout.write(\"<eol>\"+x.firstChild.nodeValue.replace(\"\\n\",\"\")+\"\\n\")\n",
        "\t\t\n",
        "\n",
        "\tout.close()\n",
        "if __name__==\"__main__\":\n",
        "\tmain();\n"
      ],
      "execution_count": 18,
      "outputs": []
    },
    {
      "cell_type": "markdown",
      "metadata": {
        "id": "U_ctkxHW3mdV",
        "colab_type": "text"
      },
      "source": [
        "**Task 1**\n",
        "Code for dividing the total train data to train and dev data          \n",
        "\n",
        "train1.txt----extracted train data\n",
        "\n",
        "train.txt-----80% of train1 data\n",
        "\n",
        "dev.txt-------20% of train1 data"
      ]
    },
    {
      "cell_type": "code",
      "metadata": {
        "id": "Z83r0P1M3go5",
        "colab_type": "code",
        "colab": {
          "base_uri": "https://localhost:8080/",
          "height": 33
        },
        "outputId": "d6d318a5-cf9d-4aec-9744-606a027acc8d"
      },
      "source": [
        "f = open(\"/content/drive/My Drive/Hindi Task 1/hindi_train1.txt\", \"r\")\n",
        "f1 = open(\"/content/drive/My Drive/Hindi Task 1/hindi_dev.txt\", \"w\")\n",
        "f2 = open(\"/content/drive/My Drive/Hindi Task 1/hindi_train.txt\", \"w\")\n",
        "i=0\n",
        "k=0\n",
        "m=0\n",
        "for line in f:\n",
        "  word=line.split()\n",
        "  i=i+1\n",
        "  if(i<=250):\n",
        "    f1.write(line)  \n",
        "  else:\n",
        "      if(word[0]==\"NP:\"):\n",
        "        k=k+1\n",
        "        if(k<=250):\n",
        "          f1.write(line)\n",
        "        else:\n",
        "          f2.write(line)\n",
        "      else:\n",
        "          f2.write(line)      \n",
        "print(i)    "
      ],
      "execution_count": 3,
      "outputs": [
        {
          "output_type": "stream",
          "text": [
            "2500\n"
          ],
          "name": "stdout"
        }
      ]
    },
    {
      "cell_type": "markdown",
      "metadata": {
        "id": "NnWpy5-Z3oTH",
        "colab_type": "text"
      },
      "source": [
        "**Task 2**\n",
        "Code for dividing the total train data to train and dev data          \n",
        "\n",
        "train1.txt----extracted train data\n",
        "\n",
        "train.txt-----80% of train1 data\n",
        "\n",
        "dev.txt-------20% of train1 data"
      ]
    },
    {
      "cell_type": "code",
      "metadata": {
        "id": "UhIHg12BGSsd",
        "colab_type": "code",
        "colab": {
          "base_uri": "https://localhost:8080/",
          "height": 33
        },
        "outputId": "246d8b59-549e-4e73-ae7d-0551372f393b"
      },
      "source": [
        "f = open(\"/content/drive/My Drive/Hindi Task 2/hindi_train1.txt\", \"r\")\n",
        "f1 = open(\"/content/drive/My Drive/Hindi Task 2/hindi_dev.txt\", \"w\")\n",
        "f2 = open(\"/content/drive/My Drive/Hindi Task 2/hindi_dev.txt\", \"w\")\n",
        "i=0\n",
        "k=0\n",
        "m=0\n",
        "for line in f:\n",
        "  word=line.split()\n",
        "  i=i+1\n",
        "  if(i<=234):\n",
        "    f1.write(line)  \n",
        "  else:\n",
        "      if(word[0]==\"SP:\"):\n",
        "        k=k+1\n",
        "        if(k<=234):\n",
        "          f1.write(line)\n",
        "        else:\n",
        "          f2.write(line)\n",
        "      else:\n",
        "          if(word[0]==\"NP:\"):\n",
        "            m=m+1\n",
        "            if(m<=234):\n",
        "              f1.write(line)\n",
        "            else:\n",
        "              f2.write(line)\n",
        "          else:\n",
        "            f2.write(line)      \n",
        "print(i)    "
      ],
      "execution_count": 4,
      "outputs": [
        {
          "output_type": "stream",
          "text": [
            "3500\n"
          ],
          "name": "stdout"
        }
      ]
    },
    {
      "cell_type": "markdown",
      "metadata": {
        "id": "7T5vhZmVr90u",
        "colab_type": "text"
      },
      "source": [
        "**Task 1**\n",
        "Code for extracting the labels(P,NP,SP) from the test file which is in xlxs format"
      ]
    },
    {
      "cell_type": "code",
      "metadata": {
        "id": "Vi71DGoAO8vm",
        "colab_type": "code",
        "colab": {
          "base_uri": "https://localhost:8080/",
          "height": 33
        },
        "outputId": "2925cef6-e50b-4286-f0a8-368aa8aaec4b"
      },
      "source": [
        "import xlrd \n",
        "  \n",
        "loc = (\"/content/drive/My Drive/Test Excel File/TestHindi-task1.xlsx\") \n",
        "f3 = open(\"/content/drive/My Drive/Hindi Task 1/hindi_test_labels.txt\", \"w\")\n",
        "wb = xlrd.open_workbook(loc) \n",
        "sheet = wb.sheet_by_index(0) \n",
        "sheet.cell_value(0, 0) \n",
        "  \n",
        "for i in range(sheet.nrows):\n",
        "  f3.write(sheet.cell_value(i, 2)+\"\\n\")\n",
        "print(sheet.nrows)  "
      ],
      "execution_count": 17,
      "outputs": [
        {
          "output_type": "stream",
          "text": [
            "900\n"
          ],
          "name": "stdout"
        }
      ]
    },
    {
      "cell_type": "markdown",
      "metadata": {
        "id": "6JQfwGui_CL9",
        "colab_type": "text"
      },
      "source": [
        "**Task 2**\n",
        "Code for extracting the labels(P,NP,SP) from the test file which is in xlxs format"
      ]
    },
    {
      "cell_type": "code",
      "metadata": {
        "id": "iMewgx724-fT",
        "colab_type": "code",
        "colab": {
          "base_uri": "https://localhost:8080/",
          "height": 33
        },
        "outputId": "1eb807fd-f73b-4006-bbf2-2242330fcf98"
      },
      "source": [
        "import xlrd \n",
        "  \n",
        "loc = (\"/content/drive/My Drive/Test Excel File/TestHindi-task2.xlsx\") \n",
        "f3 = open(\"/content/drive/My Drive/Hindi Task 2/hindi_test_labels.txt\", \"w\")\n",
        "wb = xlrd.open_workbook(loc) \n",
        "sheet = wb.sheet_by_index(0) \n",
        "sheet.cell_value(0, 0) \n",
        "  \n",
        "for i in range(sheet.nrows):\n",
        "  f3.write(sheet.cell_value(i, 2)+\"\\n\")\n",
        "print(sheet.nrows)  "
      ],
      "execution_count": 14,
      "outputs": [
        {
          "output_type": "stream",
          "text": [
            "1400\n"
          ],
          "name": "stdout"
        }
      ]
    },
    {
      "cell_type": "markdown",
      "metadata": {
        "id": "EXfhFdCj8wZi",
        "colab_type": "text"
      },
      "source": [
        "**Code for calculating number of rows in a file**"
      ]
    },
    {
      "cell_type": "code",
      "metadata": {
        "id": "XxmYsSZ8DEIa",
        "colab_type": "code",
        "colab": {
          "base_uri": "https://localhost:8080/",
          "height": 33
        },
        "outputId": "6526cba7-d18a-4191-a58b-a1de2380e270"
      },
      "source": [
        "f = open(\"/content/drive/My Drive/Punjabi Task 2/punjabi_test_labels.txt\", \"r\")\n",
        "j=0\n",
        "for line in f:\n",
        "    j=j+1\n",
        "print(j)"
      ],
      "execution_count": 15,
      "outputs": [
        {
          "output_type": "stream",
          "text": [
            "750\n"
          ],
          "name": "stdout"
        }
      ]
    }
  ]
}